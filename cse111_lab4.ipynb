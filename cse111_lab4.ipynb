{
  "nbformat": 4,
  "nbformat_minor": 0,
  "metadata": {
    "colab": {
      "provenance": []
    },
    "kernelspec": {
      "name": "python3",
      "display_name": "Python 3"
    },
    "language_info": {
      "name": "python"
    }
  },
  "cells": [
    {
      "cell_type": "code",
      "execution_count": null,
      "metadata": {
        "colab": {
          "base_uri": "https://localhost:8080/"
        },
        "id": "bREGWl1XiIES",
        "outputId": "1ca948d7-985a-4dda-b3af-8e32ab4e0dab"
      },
      "outputs": [
        {
          "output_type": "stream",
          "name": "stdout",
          "text": [
            "(1, 2, 3)\n",
            "1\n",
            "3\n",
            "6\n",
            "3\n"
          ]
        }
      ],
      "source": [
        "def a(*arg):\n",
        "  count1=0\n",
        "  print(arg)\n",
        "  for i in arg:\n",
        "    count1+=i\n",
        "    print(count1)\n",
        "  print(len(arg))\n",
        "a(1,2,3)\n"
      ]
    },
    {
      "cell_type": "code",
      "source": [
        "#19\n",
        "class msgClass: \n",
        "    def __init__(self):\n",
        "        self.content = 0 \n",
        "class Q5:\n",
        "    def __init__(self):\n",
        "        self.sum = 1\n",
        "        self.x = 2\n",
        "        self.y = 3 \n",
        "    def methodA(self):\n",
        "        x, y = 1, 1\n",
        "        msg = []\n",
        "        myMsg = msgClass()\n",
        "        myMsg.content = self.x\n",
        "        msg.append(myMsg)\n",
        "        msg[0].content = self.y + myMsg.content\n",
        "        self.y = self.y + self.methodB(msg[0])\n",
        "        y = self.methodB(msg[0]) + self.y\n",
        "        x = y + self.methodB(msg[0], msg)\n",
        "        self.sum = x + y + msg[0].content\n",
        "        print(x,\" \", y,\" \", self.sum)   \n",
        "    def methodB(self, mg1, mg2 = None):\n",
        "        if mg2 == None:\n",
        "            x, y = 5, 6\n",
        "            y = self.sum + mg1.content\n",
        "            self.y = y + mg1.content\n",
        "            x = self.x + 7 +mg1.content\n",
        "            self.sum = self.sum + x + y\n",
        "            self.x = mg1.content + x +8\n",
        "            print(x, \" \", y,\" \", self.sum)\n",
        "            return y\n",
        "        else:\n",
        "            x = 1\n",
        "            self.y += mg2[0].content\n",
        "            mg2[0].content = self.y + mg1.content\n",
        "            x = x + 4 + mg1.content\n",
        "            self.sum += x + self.y\n",
        "            mg1.content = self.sum - mg2[0].content\n",
        "            print(self.x, \" \",self.y,\" \", self.sum)\n",
        "            return self.sum\n",
        "\n",
        "q = Q5()\n",
        "q.methodA()\n",
        "\n",
        "\n"
      ],
      "metadata": {
        "colab": {
          "base_uri": "https://localhost:8080/"
        },
        "id": "fYtk3RljhfMt",
        "outputId": "fdd84801-c759-41ad-cfad-ec074ff36dd7"
      },
      "execution_count": null,
      "outputs": [
        {
          "output_type": "stream",
          "name": "stdout",
          "text": [
            "14   6   21\n",
            "39   26   86\n",
            "52   36   168\n",
            "225   57   409\n"
          ]
        }
      ]
    },
    {
      "cell_type": "code",
      "source": [
        "#17\n",
        "class Test5:\n",
        "  def __init__(self):\n",
        "      self.sum = 0\n",
        "      self.y = 0\n",
        "  def methodA(self):   \n",
        "      x=y=k=0\n",
        "      msg = [5]  \n",
        "      while (k < 2):\n",
        "          y += msg[0]     \n",
        "          x = y + self.methodB(msg, k)\n",
        "          self.sum = x + y + msg[0]\n",
        "          print(x ,\" \" , y, \" \" , self.sum)\n",
        "          k+=1 \n",
        "  def methodB(self, mg2, mg1):\n",
        "        x = 0\n",
        "        self.y += mg2[0]\n",
        "        x = x + 3 + mg1\n",
        "        self.sum += x + self.y\n",
        "        mg2[0] = self.y + mg1\n",
        "        mg1 += x + 2\n",
        "        print(x , \" \" ,self.y, \" \" , self.sum)\n",
        "        return mg1\n",
        "\n",
        "t1 = Test5()\n",
        "t1.methodA()\n",
        "t1.methodA()\n",
        "t1.methodA()\n"
      ],
      "metadata": {
        "colab": {
          "base_uri": "https://localhost:8080/"
        },
        "id": "DoHdO4Jaq0Lj",
        "outputId": "4e66eaad-331d-42d5-bd47-90a9f56d129a"
      },
      "execution_count": null,
      "outputs": [
        {
          "output_type": "stream",
          "name": "stdout",
          "text": [
            "3   5   8\n",
            "10   5   20\n",
            "4   10   34\n",
            "17   10   38\n",
            "3   15   56\n",
            "10   5   30\n",
            "4   30   64\n",
            "27   20   78\n",
            "3   35   116\n",
            "10   5   50\n",
            "4   70   124\n",
            "47   40   158\n"
          ]
        }
      ]
    },
    {
      "cell_type": "code",
      "source": [
        "#1\n",
        "#sub1234\n",
        "class Customer:\n",
        "  def __init__(self,name):\n",
        "    self.name=name\n",
        "  def greet(self,nm=None):\n",
        "    if nm==None:\n",
        "      print(\"Hello!\")\n",
        "    else:\n",
        "      print(\"Hello\",nm+\"!\")\n",
        "  def purchase(self,*arg):\n",
        "    print(self.name+\",\",\"you purchased\",len(arg),\"item(s):\")\n",
        "    for i in arg:\n",
        "     print(i)\n",
        "customer_1 = Customer(\"Sam\")\n",
        "customer_1.greet()\n",
        "customer_1.purchase(\"chips\", \"chocolate\", \"orange juice\")\n",
        "print(\"-----------------------------\")\n",
        "customer_2 = Customer(\"David\")\n",
        "customer_2.greet(\"David\")\n",
        "customer_2.purchase(\"orange juice\")\n",
        "   "
      ],
      "metadata": {
        "colab": {
          "base_uri": "https://localhost:8080/"
        },
        "id": "6Czi7xkYleVR",
        "outputId": "e7d6c25b-3c9c-43a2-8e1b-5e58734a0dd4"
      },
      "execution_count": null,
      "outputs": [
        {
          "output_type": "stream",
          "name": "stdout",
          "text": [
            "Hello!\n",
            "Sam, you purchased 3 item(s):\n",
            "chips\n",
            "chocolate\n",
            "orange juice\n",
            "-----------------------------\n",
            "Hello David!\n",
            "David, you purchased 1 item(s):\n",
            "orange juice\n"
          ]
        }
      ]
    },
    {
      "cell_type": "code",
      "source": [
        "#2\n",
        "class Panda:\n",
        "  def __init__(self,a,b,c):\n",
        "    self.name=a\n",
        "    self.gender=b\n",
        "    self.age=c\n",
        "  def sleep(self,hour=0):\n",
        "    if hour==0:\n",
        "      return f\"{self.name}'s duration is unknown thus should have only  bamboo leaves\"\n",
        "    elif 3<=hour<=5:\n",
        "      return f\"{self.name} sleeps {hour} daily and should have Mixed Veggies\"\n",
        "    elif 6<=hour<=8:\n",
        "      return f\"{self.name,} sleeps {hour} daily and should have Eggplant & Tofu\"\n",
        "    elif 9<=hour<=11:\n",
        "      return f\"{self.name} sleeps {hour} daily and should have Broccoli Chicken\"\n",
        "panda1 = Panda(\"Kunfu\",\"Male\", 5)\n",
        "panda2=Panda(\"Pan Pan\",\"Female\",3)\n",
        "panda3=Panda(\"Ming Ming\",\"Female\",8)\n",
        "\n",
        "print(\"{} is a {} Panda Bear who is {} years old\".format(panda1.name,panda1.gender,panda1.age))\n",
        "\n",
        "print(\"{} is a {} Panda Bear who is {} years old\".format(panda2.name,panda2.gender,panda2.age))\n",
        "\n",
        "print(\"{} is a {} Panda Bear who is {} years old\".format(panda3.name,panda3.gender,panda3.age))\n",
        "print(\"===========================\")\n",
        "print(panda2.sleep(10))\n",
        "print(panda1.sleep(4))\n",
        "print(panda3.sleep())"
      ],
      "metadata": {
        "colab": {
          "base_uri": "https://localhost:8080/"
        },
        "id": "sCB_b-W4qVlX",
        "outputId": "9fee6094-f742-45be-94b6-98cd22bcdc46"
      },
      "execution_count": null,
      "outputs": [
        {
          "output_type": "stream",
          "name": "stdout",
          "text": [
            "Kunfu is a Male Panda Bear who is 5 years old\n",
            "Pan Pan is a Female Panda Bear who is 3 years old\n",
            "Ming Ming is a Female Panda Bear who is 8 years old\n",
            "===========================\n",
            "Pan Pan sleeps 10 daily and should have Broccoli Chicken\n",
            "Kunfu sleeps 4 daily and should have Mixed Veggies\n",
            "Ming Ming's duration is unknown thus should have only  bamboo leaves\n"
          ]
        }
      ]
    },
    {
      "cell_type": "code",
      "source": [
        "#3\n",
        "class Cat:\n",
        "  def __init__(self,clr=\"White\",a=\"sitting\"):\n",
        "    self.colour=clr\n",
        "    self.a=a\n",
        "  def printCat(self):\n",
        "   print(self.colour,\"cat is\",self.a)\n",
        "  def changeColor(self,clr):\n",
        "    self.colour=clr\n",
        "c1 = Cat()\n",
        "c2 = Cat(\"Black\")\n",
        "c3 = Cat(\"Brown\", \"jumping\")\n",
        "c4 = Cat(\"Red\", \"purring\")\n",
        "c1.printCat()\n",
        "c2.printCat()\n",
        "c3.printCat()\n",
        "c4.printCat()\n",
        "c1.changeColor(\"Blue\")\n",
        "c3.changeColor(\"Purple\")\n",
        "c1.printCat()\n",
        "c3.printCat()\n"
      ],
      "metadata": {
        "colab": {
          "base_uri": "https://localhost:8080/"
        },
        "id": "Odfy4_vn5qdF",
        "outputId": "257f9c4d-57bc-45ec-9b82-53d3525ccb63"
      },
      "execution_count": null,
      "outputs": [
        {
          "output_type": "stream",
          "name": "stdout",
          "text": [
            "White cat is sitting\n",
            "Black cat is sitting\n",
            "Brown cat is jumping\n",
            "Red cat is purring\n",
            "Blue cat is sitting\n",
            "Purple cat is jumping\n"
          ]
        }
      ]
    },
    {
      "cell_type": "code",
      "source": [
        "#4\n",
        "class Student:\n",
        "  def __init__(self,std=\"default student\"):\n",
        "    self.student=std\n",
        "  def quizcalc(self,*arg):\n",
        "    sum=0\n",
        "    for i in arg:\n",
        "      sum+=i\n",
        "    cal=sum/3\n",
        "    self.cal=cal\n",
        "  def printdetail(self):\n",
        "    print(\"Hello\",self.student)\n",
        "    print(\"Your average quiz score is\",self.cal)\n",
        "s1 = Student()\n",
        "s1.quizcalc(10)\n",
        "print('--------------------------------')\n",
        "s1.printdetail()\n",
        "s2 = Student('Harry')\n",
        "s2.quizcalc(10,8)\n",
        "print('--------------------------------')\n",
        "s2.printdetail()\n",
        "s3 = Student('Hermione')\n",
        "s3.quizcalc(10,9,10)\n",
        "print('--------------------------------')\n",
        "s3.printdetail() \n"
      ],
      "metadata": {
        "colab": {
          "base_uri": "https://localhost:8080/"
        },
        "id": "1thoohUx9oYq",
        "outputId": "42469af7-4819-4da4-caac-c7a719f758fd"
      },
      "execution_count": null,
      "outputs": [
        {
          "output_type": "stream",
          "name": "stdout",
          "text": [
            "--------------------------------\n",
            "Hello default student\n",
            "Your average quiz score is 3.3333333333333335\n",
            "--------------------------------\n",
            "Hello Harry\n",
            "Your average quiz score is 6.0\n",
            "--------------------------------\n",
            "Hello Hermione\n",
            "Your average quiz score is 9.666666666666666\n"
          ]
        }
      ]
    },
    {
      "cell_type": "code",
      "source": [
        "#5\n",
        "class Student:\n",
        "  def __init__(self,nm,id,dept=\"CSE\"):\n",
        "    self.name=nm\n",
        "    self.ID=id\n",
        "    self.dept=dept\n",
        "  def dailyEffort(self,hr):\n",
        "    self.hr=hr\n",
        "  def printDetails(self):\n",
        "    print(f\"Name: {self.name}\\nID: {self.ID}\\nDepartment: {self.dept}\\nDaily Effort: {self.hr} hour(s)\")\n",
        "    if self.hr<=2:\n",
        "      print(\"Suggestion: Should give more effort!\")  \n",
        "    elif self.hr<=4:\n",
        "      print(\"Suggestion: Keep up the good work!\")\n",
        "    else:\n",
        "      print(\"Excellent! Now motivate others.\")\n",
        "harry = Student('Harry Potter', 123)\n",
        "harry.dailyEffort(3)\n",
        "harry.printDetails()\t\n",
        "print('========================')\n",
        "john = Student(\"John Wick\", 456, \"BBA\")\n",
        "john.dailyEffort(2)\n",
        "john.printDetails()\n",
        "print('========================')\n",
        "naruto = Student(\"Naruto Uzumaki\", 777, \"Ninja\")\n",
        "naruto.dailyEffort(6)\n",
        "naruto.printDetails()\n"
      ],
      "metadata": {
        "colab": {
          "base_uri": "https://localhost:8080/"
        },
        "id": "ZShVWUy5kVNN",
        "outputId": "2b47aa84-9554-4134-fc46-fd63afb63003"
      },
      "execution_count": null,
      "outputs": [
        {
          "output_type": "stream",
          "name": "stdout",
          "text": [
            "Name: Harry Potter\n",
            "ID: 123\n",
            "Department: CSE\n",
            "Daily Effort: 3 hour(s)\n",
            "Suggestion: Keep up the good work!\n",
            "========================\n",
            "Name: John Wick\n",
            "ID: 456\n",
            "Department: BBA\n",
            "Daily Effort: 2 hour(s)\n",
            "Suggestion: Should give more effort!\n",
            "========================\n",
            "Name: Naruto Uzumaki\n",
            "ID: 777\n",
            "Department: Ninja\n",
            "Daily Effort: 6 hour(s)\n",
            "Excellent! Now motivate others.\n"
          ]
        }
      ]
    },
    {
      "cell_type": "code",
      "source": [
        "#6\n",
        "class Patient:\n",
        "  def __init__(self,nm,age):\n",
        "    self.nm=nm\n",
        "    self.age=age\n",
        "  def add_Symptom(self,*arg):\n",
        "    self.symptoms=\", \".join(arg)\n",
        "  def printPatientDetail(self):\n",
        "    print(f\"Name: {self.nm}\\nAge: {self.age}\\nSymptoms: {self.symptoms}\")\n",
        "p1 = Patient(\"Thomas\", 23)\n",
        "p1.add_Symptom(\"Headache\")\n",
        "p2 = Patient(\"Carol\", 20)\n",
        "p2.add_Symptom(\"Vomiting\", \"Coughing\")\n",
        "p3 = Patient(\"Mike\", 25)\n",
        "p3.add_Symptom(\"Fever\", \"Headache\", \"Coughing\")\n",
        "print(\"=========================\")\n",
        "p1.printPatientDetail()\n",
        "print(\"=========================\")\n",
        "p2.printPatientDetail()\n",
        "print(\"=========================\")\n",
        "p3.printPatientDetail()\n"
      ],
      "metadata": {
        "colab": {
          "base_uri": "https://localhost:8080/"
        },
        "id": "RnMCeRDUqQxe",
        "outputId": "b682970a-60e0-4261-e695-7212f587fcdc"
      },
      "execution_count": null,
      "outputs": [
        {
          "output_type": "stream",
          "name": "stdout",
          "text": [
            "=========================\n",
            "Name: Thomas\n",
            "Age: 23\n",
            "Symptoms: Headache\n",
            "=========================\n",
            "Name: Carol\n",
            "Age: 20\n",
            "Symptoms: Vomiting, Coughing\n",
            "=========================\n",
            "Name: Mike\n",
            "Age: 25\n",
            "Symptoms: Fever, Headache, Coughing\n"
          ]
        }
      ]
    },
    {
      "cell_type": "code",
      "source": [
        "#7\n",
        "class Match:\n",
        "  def __init__(self,team):\n",
        "    team=team.split(\"-\")\n",
        "    self.tm1=team[0]\n",
        "    self.tm2=team[1]\n",
        "    self.run=0\n",
        "    self.over=0\n",
        "    self.wicket=0\n",
        "    print(\"5..4..3..2..1.. Play !!!\")\n",
        "  def add_run(self,rn=0):\n",
        "    self.rn=rn\n",
        "    self.run+=self.rn\n",
        "  def add_over(self,ovr=0):\n",
        "    self.ovr=ovr\n",
        "    if self.ovr>=5:\n",
        "      print(\"Warning! Cannot add\",self.ovr,\"over/s (5 over match)\")\n",
        "    else:\n",
        "      self.over+=self.ovr\n",
        "  def add_wicket(self,wt=0):\n",
        "    self.wt=wt\n",
        "    self.wicket+=self.wt\n",
        "  def print_scoreboard(self):\n",
        "    return f\"Batting Team: {self.tm1}\\nBowling Team: {self.tm2}\\nTotal Runs: {self.run} Wickets: {self.wicket} Overs: {self.over}\"\n",
        "match1 = Match(\"Rangpur Riders-Cumilla Victorians\")\n",
        "print(\"=========================\")\n",
        "match1.add_run(4)\n",
        "match1.add_run(6)\n",
        "match1.add_over(1)\n",
        "print(match1.print_scoreboard())\n",
        "print(\"=========================\")\n",
        "match1.add_over(5)\n",
        "print(\"=========================\")\n",
        "match1.add_wicket(1)\n",
        "print(match1.print_scoreboard())\n"
      ],
      "metadata": {
        "colab": {
          "base_uri": "https://localhost:8080/"
        },
        "id": "_LhehdB8tgFT",
        "outputId": "bcd2ec2f-5008-4105-c7b1-1a7964084ff5"
      },
      "execution_count": null,
      "outputs": [
        {
          "output_type": "stream",
          "name": "stdout",
          "text": [
            "5..4..3..2..1.. Play !!!\n",
            "=========================\n",
            "Batting Team: Rangpur Riders\n",
            "Bowling Team: Cumilla Victorians\n",
            "Total Runs: 10 Wickets: 0 Overs: 1\n",
            "=========================\n",
            "Warning! Cannot add 5 over/s (5 over match)\n",
            "=========================\n",
            "Batting Team: Rangpur Riders\n",
            "Bowling Team: Cumilla Victorians\n",
            "Total Runs: 10 Wickets: 1 Overs: 1\n"
          ]
        }
      ]
    },
    {
      "cell_type": "code",
      "source": [
        "#8\n",
        "class ParcelKoro:\n",
        "  def __init__(self,nm=\"No name set\",wg=0):\n",
        "    self.nm=nm\n",
        "    self.product_weight=wg\n",
        "  def calculateFee(self,loc=None):\n",
        "    if self.product_weight!=0:\n",
        "      if loc==None:\n",
        "        total=(self.product_weight*20)+50\n",
        "      else:\n",
        "        total=(self.product_weight*20)+100\n",
        "      self.total=total\n",
        "    else:\n",
        "      self.total=0\n",
        "  def printDetails(self):\n",
        "    print(f\"Customer Name: {self.nm}\\nProduct Weight: {self.product_weight}\\nTotal fee: {self.total}\")\n",
        "print(\"**********************\")\n",
        "p1 = ParcelKoro()\n",
        "p1.calculateFee()\n",
        "p1.printDetails()\n",
        "print(\"**********************\")\n",
        "p2 = ParcelKoro('Bob The Builder')\n",
        "p2.calculateFee()\n",
        "p2.printDetails()\n",
        "print(\"----------------------------\")\n",
        "p2.product_weight = 15\n",
        "p2.calculateFee()\n",
        "p2.printDetails()\n",
        "print(\"**********************\")\n",
        "p3 = ParcelKoro('Dora The Explorer', 10)\n",
        "p3.calculateFee('Dhanmondi')\n",
        "p3.printDetails()\n"
      ],
      "metadata": {
        "colab": {
          "base_uri": "https://localhost:8080/"
        },
        "id": "tzsVRkHL5OCI",
        "outputId": "86b7f9b5-3ecf-4737-bd5e-bac9fcc86ba2"
      },
      "execution_count": null,
      "outputs": [
        {
          "output_type": "stream",
          "name": "stdout",
          "text": [
            "**********************\n",
            "Customer Name: No name set\n",
            "Product Weight: 0\n",
            "Total fee: 0\n",
            "**********************\n",
            "Customer Name: Bob The Builder\n",
            "Product Weight: 0\n",
            "Total fee: 0\n",
            "----------------------------\n",
            "Customer Name: Bob The Builder\n",
            "Product Weight: 15\n",
            "Total fee: 350\n",
            "**********************\n",
            "Customer Name: Dora The Explorer\n",
            "Product Weight: 10\n",
            "Total fee: 300\n"
          ]
        }
      ]
    },
    {
      "cell_type": "code",
      "source": [
        "#9\n",
        "class Batsman:\n",
        "    def __init__(self, *var):\n",
        "        if len(var) == 2:\n",
        "            runs, balls = var\n",
        "        else:\n",
        "            player, runs, balls = var\n",
        "\n",
        "        if len(var) != 2:\n",
        "            self.name = player\n",
        "        else:\n",
        "            self.name = \"New Batsman\"\n",
        "\n",
        "        self.runs = runs\n",
        "        self.balls = balls\n",
        "\n",
        "    def setName(self, name):\n",
        "        self.name = name\n",
        "\n",
        "    def battingStrikeRate(self):\n",
        "        return (self.runs) / (self.balls) * 100\n",
        "\n",
        "    def printCareerStatistics(self):\n",
        "        print(f\"Name: {self.name}\")\n",
        "        print(f\"Runs Scored: {self.runs}, Balls Faced: {self.balls}\")\n",
        "\n",
        "        \n",
        "        \n",
        "b1 = Batsman(6101, 7380)\n",
        "b1.printCareerStatistics() \n",
        "print(\"============================\")\n",
        "b2 = Batsman(\"Liton Das\", 678, 773)\n",
        "b2.printCareerStatistics()\n",
        "print(\"----------------------------\")\n",
        "print(b2.battingStrikeRate())\n",
        "print(\"============================\")\n",
        "b1.setName(\"Shakib Al Hasan\")\n",
        "b1.printCareerStatistics()\n",
        "print(\"----------------------------\")\n",
        "print(b1.battingStrikeRate())"
      ],
      "metadata": {
        "colab": {
          "base_uri": "https://localhost:8080/"
        },
        "id": "MmIEFHR1CurM",
        "outputId": "413c4b9c-1e7a-4a40-b9cc-341661072c92"
      },
      "execution_count": null,
      "outputs": [
        {
          "output_type": "stream",
          "name": "stdout",
          "text": [
            "Name: New Batsman\n",
            "Runs Scored: 6101, Balls Faced: 7380\n",
            "============================\n",
            "Name: Liton Das\n",
            "Runs Scored: 678, Balls Faced: 773\n",
            "----------------------------\n",
            "87.71021992238033\n",
            "============================\n",
            "Name: Shakib Al Hasan\n",
            "Runs Scored: 6101, Balls Faced: 7380\n",
            "----------------------------\n",
            "82.66937669376694\n"
          ]
        }
      ]
    },
    {
      "cell_type": "code",
      "source": [
        "#10\n",
        "class EPL_Team:\n",
        "  def __init__(self,nm,song=\"No Slogan\",title=0):\n",
        "    self.name=nm\n",
        "    self.song=song\n",
        "    self.title=title\n",
        "  def showClubInfo(self):\n",
        "    return f\"Name: {self.name}\\nSong: {self.song}\\nTotal No of title: {self.title}\"\n",
        "  def increaseTitle(self):\n",
        "    self.title+=1\n",
        "  def changeSong(self,sng):\n",
        "    self.song=sng\n",
        "manu = EPL_Team('Manchester United', 'Glory Glory Man United')\n",
        "chelsea = EPL_Team('Chelsea')\n",
        "print('===================')\n",
        "print(manu.showClubInfo())\n",
        "print('##################')\n",
        "manu.increaseTitle()\n",
        "print(manu.showClubInfo())\n",
        "print('===================')\n",
        "print(chelsea.showClubInfo())\n",
        "chelsea.changeSong('Keep the blue flag flying high')\n",
        "print(chelsea.showClubInfo())\n"
      ],
      "metadata": {
        "id": "lKWvxq6GDCYK",
        "colab": {
          "base_uri": "https://localhost:8080/"
        },
        "outputId": "249a68ec-25b0-4c9b-c6a8-54f725789e48"
      },
      "execution_count": null,
      "outputs": [
        {
          "output_type": "stream",
          "name": "stdout",
          "text": [
            "===================\n",
            "Name: Manchester United\n",
            "Song: Glory Glory Man United\n",
            "Total No of title: 0\n",
            "##################\n",
            "Name: Manchester United\n",
            "Song: Glory Glory Man United\n",
            "Total No of title: 1\n",
            "===================\n",
            "Name: Chelsea\n",
            "Song: No Slogan\n",
            "Total No of title: 0\n",
            "Name: Chelsea\n",
            "Song: Keep the blue flag flying high\n",
            "Total No of title: 0\n"
          ]
        }
      ]
    },
    {
      "cell_type": "code",
      "source": [
        "#11\n",
        "class Author:\n",
        "    def __init__(self, name=\"Default\", *books):\n",
        "        self.name, self.books = name, books\n",
        "    def addBooks(self, *books): \n",
        "      self.books += books\n",
        "    def changeName(self, name): \n",
        "      self.name = name\n",
        "    def printDetails(self):\n",
        "        print(f\"Author Name: {self.name}\\n--------\\nList of Books:\")\n",
        "        for book in self.books: \n",
        "          print(book)\n",
        "\n",
        "auth1 = Author('Humayun Ahmed')\n",
        "auth1.addBooks('Deyal', 'Megher Opor Bari')\n",
        "auth1.printDetails()\n",
        "print('===================')\n",
        "auth2 = Author()\n",
        "print(auth2.name)\n",
        "auth2.changeName('Mario Puzo')\n",
        "auth2.addBooks('The Godfather', 'Omerta', 'The Sicilian')\n",
        "print('===================')\n",
        "auth2.printDetails()\n",
        "print('===================')\n",
        "auth3 = Author('Paolo Coelho', 'The Alchemist', 'The Fifth Mountain')\n",
        "auth3.printDetails()\n"
      ],
      "metadata": {
        "colab": {
          "base_uri": "https://localhost:8080/"
        },
        "id": "gKajz_-PDpys",
        "outputId": "1d0ea835-c3a2-4f83-b546-74e1b5af43d7"
      },
      "execution_count": null,
      "outputs": [
        {
          "output_type": "stream",
          "name": "stdout",
          "text": [
            "Author Name: Humayun Ahmed\n",
            "--------\n",
            "List of Books:\n",
            "Deyal\n",
            "Megher Opor Bari\n",
            "===================\n",
            "Default\n",
            "===================\n",
            "Author Name: Mario Puzo\n",
            "--------\n",
            "List of Books:\n",
            "The Godfather\n",
            "Omerta\n",
            "The Sicilian\n",
            "===================\n",
            "Author Name: Paolo Coelho\n",
            "--------\n",
            "List of Books:\n",
            "The Alchemist\n",
            "The Fifth Mountain\n"
          ]
        }
      ]
    },
    {
      "cell_type": "code",
      "source": [
        "#12\n",
        "class TaxiLagbe:\n",
        "  def __init__(self,num,plc):\n",
        "    self.num=num\n",
        "    self.plc=plc\n",
        "    self.list1=[]\n",
        "    self.list2=[]\n",
        "    self.fare=0\n",
        "  def addPassenger(self,*pas):\n",
        "    for item in pas:\n",
        "      a=item.split(\"_\")\n",
        "      if len(self.list1)<4:\n",
        "        self.list1.append(a[0])\n",
        "        print(\"Dear\",a[0]+\"!\",\"Welcome to TaxiLagbe.\")\n",
        "      else:\n",
        "        print(\"Taxi Full! No more passengers can be added\")\n",
        "      if len(self.list1)<4:\n",
        "        self.list2.append(int(a[1]))\n",
        "        self.fare+=int(a[1])\n",
        "  def printDetails(self):\n",
        "    print(\"Trip info for Taxi number:\",self.num)\n",
        "    print(\"This taxi can cover only\",self.plc,\"area.\")\n",
        "    print(\"Total passengers:\",len(self.list1))\n",
        "    print(\"Passenger lists:\")\n",
        "    count2=0\n",
        "    for i in self.list1:\n",
        "      count2+=1\n",
        "      if count2!=len(self.list1):\n",
        "        print(i,end=\",\")\n",
        "      else:\n",
        "        print(i)\n",
        "    print(\"Total collected fare:\",self.fare)\n",
        "taxi1 = TaxiLagbe('1010-01', 'Dhaka')\n",
        "print('-------------------------------')\n",
        "taxi1.addPassenger('Walker_100', 'Wood_200')\n",
        "taxi1.addPassenger('Matt_100')\n",
        "taxi1.addPassenger('Wilson_105')\n",
        "print('-------------------------------')\n",
        "taxi1.printDetails()\n",
        "print('-------------------------------')\n",
        "taxi1.addPassenger('Karen_200')\n",
        "print('-------------------------------')\n",
        "taxi1.printDetails()\n",
        "print('-------------------------------')\n",
        "taxi2 = TaxiLagbe('1010-02', 'Khulna')\n",
        "taxi2.addPassenger('Ronald_115')\n",
        "taxi2.addPassenger('Parker_215')\n",
        "print('-------------------------------')\n",
        "taxi2.printDetails()\n"
      ],
      "metadata": {
        "colab": {
          "base_uri": "https://localhost:8080/"
        },
        "id": "LI3K33LDmuFf",
        "outputId": "bea60097-6d6a-427c-bd0d-bffff1d0f2ab"
      },
      "execution_count": null,
      "outputs": [
        {
          "output_type": "stream",
          "name": "stdout",
          "text": [
            "-------------------------------\n",
            "Dear Walker! Welcome to TaxiLagbe.\n",
            "Dear Wood! Welcome to TaxiLagbe.\n",
            "Dear Matt! Welcome to TaxiLagbe.\n",
            "Dear Wilson! Welcome to TaxiLagbe.\n",
            "-------------------------------\n",
            "Trip info for Taxi number: 1010-01\n",
            "This taxi can cover only Dhaka area.\n",
            "Total passengers: 4\n",
            "Passenger lists:\n",
            "Walker,Wood,Matt,Wilson\n",
            "Total collected fare: 400\n",
            "-------------------------------\n",
            "Taxi Full! No more passengers can be added\n",
            "-------------------------------\n",
            "Trip info for Taxi number: 1010-01\n",
            "This taxi can cover only Dhaka area.\n",
            "Total passengers: 4\n",
            "Passenger lists:\n",
            "Walker,Wood,Matt,Wilson\n",
            "Total collected fare: 400\n",
            "-------------------------------\n",
            "Dear Ronald! Welcome to TaxiLagbe.\n",
            "Dear Parker! Welcome to TaxiLagbe.\n",
            "-------------------------------\n",
            "Trip info for Taxi number: 1010-02\n",
            "This taxi can cover only Khulna area.\n",
            "Total passengers: 2\n",
            "Passenger lists:\n",
            "Ronald,Parker\n",
            "Total collected fare: 330\n"
          ]
        }
      ]
    },
    {
      "cell_type": "code",
      "source": [
        "#13\n",
        "class Account:\n",
        "  def __init__(self,nm=\"Default Account\",bln=0.0):\n",
        "    self.name=nm\n",
        "    self.balance=bln\n",
        "  def details(self):\n",
        "    return f\"{self.name}\\n{self.balance}\"\n",
        "  def withdraw(self,num):\n",
        "    if self.balance<=num or (self.balance-num)<=3070.0:\n",
        "      print(\"Sorry, Withdraw unsuccessful! The account balance after deducting withdraw amount is equal to or less than minimum.\")\n",
        "    else:\n",
        "      balance=self.balance-num\n",
        "      print(\"Withdraw successful! New balance is:\",balance)\n",
        "a1 = Account()\n",
        "print(a1.details())\n",
        "print(\"------------------------\")\n",
        "a1.name = \"Oliver\"\n",
        "a1.balance = 10000.0\n",
        "print(a1.details())\n",
        "print(\"------------------------\")\n",
        "a2 = Account(\"Liam\")\n",
        "print(a2.details())\n",
        "print(\"------------------------\")\n",
        "a3 = Account(\"Noah\",400)\n",
        "print(a3.details())\n",
        "print(\"------------------------\")\n",
        "a1.withdraw(6930)\n",
        "print(\"------------------------\")\n",
        "a2.withdraw(600)\n",
        "print(\"------------------------\")\n",
        "a1.withdraw(6929)\n"
      ],
      "metadata": {
        "id": "Sy99qzwloSWI",
        "colab": {
          "base_uri": "https://localhost:8080/"
        },
        "outputId": "1a361080-64d5-4b9e-ac15-7a39391c35e3"
      },
      "execution_count": null,
      "outputs": [
        {
          "output_type": "stream",
          "name": "stdout",
          "text": [
            "Default Account\n",
            "0.0\n",
            "------------------------\n",
            "Oliver\n",
            "10000.0\n",
            "------------------------\n",
            "Liam\n",
            "0.0\n",
            "------------------------\n",
            "Noah\n",
            "400\n",
            "------------------------\n",
            "Sorry, Withdraw unsuccessful! The account balance after deducting withdraw amount is equal to or less than minimum.\n",
            "------------------------\n",
            "Sorry, Withdraw unsuccessful! The account balance after deducting withdraw amount is equal to or less than minimum.\n",
            "------------------------\n",
            "Withdraw successful! New balance is: 3071.0\n"
          ]
        }
      ]
    },
    {
      "cell_type": "code",
      "source": [
        "#14\n",
        "class StudentDatabase:\n",
        "  def __init__(self,nm,id):\n",
        "    self.name=nm\n",
        "    self.id=id\n",
        "    self.grades={}\n",
        "  def calculateGPA(self,crslist,sem):\n",
        "    self.sem=sem\n",
        "    clist1=[]\n",
        "    glist1=[]\n",
        "    gp=0\n",
        "    for item in crslist:\n",
        "      a=item.split(\":\")\n",
        "      clist1.append(a[0])\n",
        "      glist1.append(float(a[1]))\n",
        "      gp+=float(a[1])\n",
        "    cg=(gp*3)/(len(crslist)*3)\n",
        "    dict1={tuple(clist1):round(cg,2)}\n",
        "    self.grades[sem]=dict1\n",
        "  def printDetails(self):\n",
        "    print(f\"Name: {self.name}\\nID: {self.id}\")\n",
        "    for k,v in self.grades.items():\n",
        "      print(f\"Courses taken in {k}:\")\n",
        "      for k1,v1 in v.items():\n",
        "        for h in k1:\n",
        "         print(h)\n",
        "      print(\"GPA:\",v1)\n",
        "       \n",
        "s1 = StudentDatabase('Pietro', '10101222')\n",
        "s1.calculateGPA(['CSE230: 4.0', 'CSE220: 4.0', 'MAT110: 4.0'], 'Summer2020')\n",
        "s1.calculateGPA(['CSE250: 3.7', 'CSE330: 4.0'], 'Summer2021')\n",
        "print(f'Grades for {s1.name}\\n{s1.grades}')\n",
        "print('------------------------------------------------------')\n",
        "s1.printDetails()\n",
        "s2 = StudentDatabase('Wanda', '10103332')\n",
        "s2.calculateGPA(['CSE111: 3.7', 'CSE260: 3.7', 'ENG101: 4.0'], 'Summer2022')\n",
        "print('------------------------------------------------------')\n",
        "print(f'Grades for {s2.name}\\n{s2.grades}')\n",
        "print('------------------------------------------------------')\n",
        "s2.printDetails()\n",
        "\n"
      ],
      "metadata": {
        "colab": {
          "base_uri": "https://localhost:8080/"
        },
        "id": "undPl02942Ao",
        "outputId": "3b9f71c1-7e7d-4d9b-bb63-1b31d2a181d1"
      },
      "execution_count": null,
      "outputs": [
        {
          "output_type": "stream",
          "name": "stdout",
          "text": [
            "Grades for Pietro\n",
            "{'Summer2020': {('CSE230', 'CSE220', 'MAT110'): 4.0}, 'Summer2021': {('CSE250', 'CSE330'): 3.85}}\n",
            "------------------------------------------------------\n",
            "Name: Pietro\n",
            "ID: 10101222\n",
            "Courses taken in Summer2020:\n",
            "CSE230\n",
            "CSE220\n",
            "MAT110\n",
            "GPA: 4.0\n",
            "Courses taken in Summer2021:\n",
            "CSE250\n",
            "CSE330\n",
            "GPA: 3.85\n",
            "------------------------------------------------------\n",
            "Grades for Wanda\n",
            "{'Summer2022': {('CSE111', 'CSE260', 'ENG101'): 3.8}}\n",
            "------------------------------------------------------\n",
            "Name: Wanda\n",
            "ID: 10103332\n",
            "Courses taken in Summer2022:\n",
            "CSE111\n",
            "CSE260\n",
            "ENG101\n",
            "GPA: 3.8\n"
          ]
        }
      ]
    },
    {
      "cell_type": "code",
      "source": [
        "#15\n",
        "class FinalT6A:\n",
        "    def __init__(self, x, p):\n",
        "        self.temp, self.sum, self.y = 4, 0, 1\n",
        "        self.temp += 1\n",
        "        self.y = self.temp - p\n",
        "        self.sum = self.temp + x\n",
        "        print(x, self.y, self.sum)\n",
        "    def methodA(self):\n",
        "        x = 0\n",
        "        y = 0\n",
        "        y = y + self.y\n",
        "        x = self.y + 2 + self.temp\n",
        "        self.sum = x + y + self.methodB(self.temp, y)\n",
        "        print(x, y, self.sum)\n",
        "    def methodB(self, temp, n):\n",
        "        x = 0\n",
        "        temp += 1\n",
        "        self.y = self.y + temp\n",
        "        x = x + 3 + n\n",
        "        self.sum = self.sum + x + self.y\n",
        "        print(x, self.y, self.sum)\n",
        "        return self.sum\n",
        "\n",
        "q1 = FinalT6A(2,1)\n",
        "q1.methodA()\n",
        "q1.methodA()\n"
      ],
      "metadata": {
        "colab": {
          "base_uri": "https://localhost:8080/"
        },
        "id": "nOsiiglUYz43",
        "outputId": "b17a37af-63de-4d23-a956-afeeb0ee868e"
      },
      "execution_count": null,
      "outputs": [
        {
          "output_type": "stream",
          "name": "stdout",
          "text": [
            "2 4 7\n",
            "7 10 24\n",
            "11 4 39\n",
            "13 16 68\n",
            "17 10 95\n"
          ]
        }
      ]
    },
    {
      "cell_type": "code",
      "source": [
        "#16\n",
        "class Quiz3A:\n",
        "    def __init__(self, k = None):\n",
        "        self.temp, self.sum, self.y = 4, 0, 0\n",
        "        if k != None:\n",
        "            self.temp += 1\n",
        "            self.temp = self.temp\n",
        "            self.sum = self.temp + k\n",
        "            self.y = self.sum - 1\n",
        "        else:\n",
        "            self.y = self.temp - 1\n",
        "            self.sum = self.temp + 1\n",
        "            self.temp += 2    \n",
        "    def methodB(self, m, n):\n",
        "        x = 0\n",
        "        self.temp += 1\n",
        "        self.y = self.y + m + (self.temp)\n",
        "        x = x + 2 + n\n",
        "        self.sum = self.sum + x + self.y\n",
        "        print(x, self.y, self.sum)\n",
        "        return self.sum\n",
        "\n",
        "a1 = Quiz3A()\n",
        "a1.methodB(1,2)\n",
        "a2 = Quiz3A(3)\n",
        "a2.methodB(2,4)\n",
        "a1.methodB(2,1)\n",
        "a2.methodB(1,3)\n"
      ],
      "metadata": {
        "colab": {
          "base_uri": "https://localhost:8080/"
        },
        "id": "UJe_4YUIbmpI",
        "outputId": "615efe86-9996-41a7-e10b-e53f115ec478"
      },
      "execution_count": null,
      "outputs": [
        {
          "output_type": "stream",
          "name": "stdout",
          "text": [
            "4 11 20\n",
            "6 15 29\n",
            "3 21 44\n",
            "5 23 57\n"
          ]
        },
        {
          "output_type": "execute_result",
          "data": {
            "text/plain": [
              "57"
            ]
          },
          "metadata": {},
          "execution_count": 2
        }
      ]
    },
    {
      "cell_type": "code",
      "source": [
        "def func(str1):\n",
        "  str1=str1.split(\",  \")\n",
        "  a,b=tuple(str1)\n",
        "  lis1=\"\"\n",
        "  lis2=\"\"\n",
        "  str2=\"\"\n",
        "  print(str1)\n",
        "  for i in a:\n",
        "    lis1+=i\n",
        "  for j in b:\n",
        "    lis2+=j\n",
        "  for k in lis2:\n",
        "    if k in lis1:\n",
        "      str2+=k\n",
        "  nw=\"\"\n",
        "  for h in range (len(str2)):\n",
        "                                                          \n",
        "  \n",
        "  print(lis1)\n",
        "  print(str2)\n",
        "func(input().lower())"
      ],
      "metadata": {
        "colab": {
          "base_uri": "https://localhost:8080/"
        },
        "outputId": "a7b0affb-ee1c-425d-b437-23edee66e829",
        "id": "Ivjeu3Hp-Eva"
      },
      "execution_count": null,
      "outputs": [
        {
          "output_type": "stream",
          "name": "stdout",
          "text": [
            "CSEpro,  noobcs\n",
            "['csepro', 'noobcs']\n",
            "csepro\n",
            "oocs\n"
          ]
        }
      ]
    },
    {
      "cell_type": "markdown",
      "source": [
        "ungraded task"
      ],
      "metadata": {
        "id": "-xHlrjB9WtPy"
      }
    },
    {
      "cell_type": "code",
      "source": [
        "#20\n",
        "class Student:\n",
        "  def __init__(self,nm=None,dep=None):\n",
        "    self.name=nm\n",
        "    self.dep=dep\n",
        "    if nm==None and dep==None:\n",
        "      print(\"Student name and department need to be set\")\n",
        "    elif nm!=None and dep==None:\n",
        "      print(f\"Department for {self.name} needs to be set\")\n",
        "    else:\n",
        "      print(f\"{self.name} is from {self.dep} department\")\n",
        "  def update_name(self,nm):\n",
        "    self.name=nm\n",
        "  def update_department(self,dep):\n",
        "    self.dep=dep\n",
        "  def enroll(self,*crs):\n",
        "    self.a=len(crs)\n",
        "    self.crs=(\", \").join(crs)\n",
        "  def printDetail(self):\n",
        "    print(f\"Name: {self.name}\\nDepartment: {self.dep}\")\n",
        "    print(f\"{self.name} ernrolled in {self.a} course(s):\")\n",
        "    print(self.crs)\n",
        "s1 = Student()\n",
        "print(\"=========================\")\n",
        "s2 = Student(\"Carol\")\n",
        "print(\"=========================\")\n",
        "s3 = Student(\"Jon\", \"EEE\")\n",
        "print(\"=========================\")\n",
        "s1.update_name(\"Bob\")\n",
        "s1.update_department(\"CSE\")\n",
        "s2.update_department(\"BBA\")\n",
        "s1.enroll(\"CSE110\", \"MAT110\", \"ENG091\")\n",
        "s2.enroll(\"BUS101\")\n",
        "s3.enroll(\"MAT110\", \"PHY111\")\n",
        "print(\"###########################\")\n",
        "s1.printDetail()\n",
        "print(\"=========================\")\n",
        "s2.printDetail()\n",
        "print(\"=========================\")\n",
        "s3.printDetail()\n"
      ],
      "metadata": {
        "colab": {
          "base_uri": "https://localhost:8080/"
        },
        "id": "I__E3lO2Wq64",
        "outputId": "8663fab4-4c33-4ef4-d826-15c1a6e6c424"
      },
      "execution_count": null,
      "outputs": [
        {
          "output_type": "stream",
          "name": "stdout",
          "text": [
            "Student name and department need to be set\n",
            "=========================\n",
            "Department for Carol needs to be set\n",
            "=========================\n",
            "Jon is from EEE department\n",
            "=========================\n",
            "###########################\n",
            "Name: Bob\n",
            "Department: CSE\n",
            "Bob ernrolled in 3 course(s):\n",
            "CSE110, MAT110, ENG091\n",
            "=========================\n",
            "Name: Carol\n",
            "Department: BBA\n",
            "Carol ernrolled in 1 course(s):\n",
            "BUS101\n",
            "=========================\n",
            "Name: Jon\n",
            "Department: EEE\n",
            "Jon ernrolled in 2 course(s):\n",
            "MAT110, PHY111\n"
          ]
        }
      ]
    },
    {
      "cell_type": "code",
      "source": [
        "#21\n",
        "class Student:\n",
        "  def __init__(self,nm,id,dep):\n",
        "    self.nm=nm\n",
        "    self.dep=dep\n",
        "    self.id=id\n",
        "  def details(self):\n",
        "    return f\"Name: {self.nm}\\nID: {self.id}\\nDepartment: {self.dep}\"\n",
        "  def advise(self,*arg):\n",
        "    crd=len(arg)*3.0\n",
        "    crs=\", \".join(arg)\n",
        "    print(f\"{self.nm}, you have taken {crd} credits.\")\n",
        "    print(f\"List of courses: {crs}\")\n",
        "    if 9.0<=crd<=12.0:\n",
        "      print(\"Status: Ok\")\n",
        "    elif 12.0<crd:\n",
        "      print(\"Status: You have to drop at least 1 course.\")\n",
        "    else:\n",
        "      print(\"Status: You have to take at least 1 course.\")\n",
        "s1 = Student('Alice','20103012','CSE')\n",
        "s2 = Student('Bob', '18301254','EEE')\n",
        "s3 = Student('Carol', '17101238','CSE')\n",
        "print('##########################')\n",
        "print(s1.details())\n",
        "print('##########################')\n",
        "print(s2.details())\n",
        "print('##########################')\n",
        "s1.advise('CSE110', 'MAT110', 'PHY111')\n",
        "print('##########################')\n",
        "s2.advise('BUS101', 'MAT120')\n",
        "print('##########################')\n",
        "s3.advise('MAT110', 'PHY111', 'ENG102','CSE111', 'CSE230')\n"
      ],
      "metadata": {
        "colab": {
          "base_uri": "https://localhost:8080/"
        },
        "id": "QzyNUrp4bP95",
        "outputId": "f33f0238-6e1a-4a10-8a0b-56262dbba11c"
      },
      "execution_count": null,
      "outputs": [
        {
          "output_type": "stream",
          "name": "stdout",
          "text": [
            "##########################\n",
            "Name: Alice\n",
            "ID: 20103012\n",
            "Department: CSE\n",
            "##########################\n",
            "Name: Bob\n",
            "ID: 18301254\n",
            "Department: EEE\n",
            "##########################\n",
            "Alice, you have taken 9.0 credits.\n",
            "List of courses: CSE110, MAT110, PHY111\n",
            "Status: Ok\n",
            "##########################\n",
            "Bob, you have taken 6.0 credits.\n",
            "List of courses: BUS101, MAT120\n",
            "Status: You have to take at least 1 course.\n",
            "##########################\n",
            "Carol, you have taken 15.0 credits.\n",
            "List of courses: MAT110, PHY111, ENG102, CSE111, CSE230\n",
            "Status: You have to drop at least 1 course.\n"
          ]
        }
      ]
    },
    {
      "cell_type": "code",
      "source": [
        "#22\n",
        "class Hotel:\n",
        "  def __init__(self,nm):\n",
        "    self.nm=nm\n",
        "    self.idstaff=0\n",
        "    self.idguest=0\n",
        "    self.lis1=[]\n",
        "    self.lis2=[]\n",
        "  def addStuff(self,nm,age,phn=\"000\"):\n",
        "    self.nm1=nm\n",
        "    self.age=age\n",
        "    self.phn=phn\n",
        "    self.idstaff+=1\n",
        "    print(f\"Staff With ID {self.idstaff} is added\")\n",
        "  def getStuffById(self,num):\n",
        "    self.num=num\n",
        "    return f\"Staff ID: {self.num}\\nName: {self.nm1}\\nAge: {self.age}\\nPhone no.: {self.phn}\"\n",
        "  def addGuest(self,nm,ag,phn1):\n",
        "    self.nm2=nm\n",
        "    self.ag=ag\n",
        "    self.phn1=phn1\n",
        "    self.idguest+=1\n",
        "    if self.idguest==1:\n",
        "      self.lis1.extend([self.idguest,self.nm2,self.ag,self.phn1])\n",
        "    elif self.idguest==2:\n",
        "      self.lis2.extend([self.idguest,self.nm2,self.ag,self.phn1])\n",
        "    print(f\"Guest With ID {self.idguest} is created\")\n",
        "  def getGuestById(self,num1):\n",
        "    self.num1=num1\n",
        "    return f\"Guest ID: {self.num1}\\nName: {self.nm2}\\nAge: {self.ag}\\nPhone no.: {self.phn1}\"\n",
        "  def allStaffs(self):\n",
        "    print(f\"All Staffs:\\nNumber of Staff: {self.idstaff}\")\n",
        "    print(f\"Staff ID: {self.num} Name: {self.nm1} Age: {self.age} Phone no.:{self.phn}\")\n",
        "  def allGuest(self):\n",
        "    print(f\"All Staffs:\\nNumber of Staff: {self.idstaff}\")\n",
        "    print(f\"Guest ID: {self.lis1[0]} Name: {self.lis1[1]} Age: {self.lis1[2]} Phone no.:{self.lis1[3]}\")\n",
        "    print(f\"Guest ID: {self.lis2[0]} Name: {self.lis2[1]} Age: {self.lis2[2]} Phone no.:{self.lis2[3]}\")\n",
        "h = Hotel(\"Lakeshore\")\n",
        "h.addStuff( \"Adam\", 26)\n",
        "print(\"=================================\")\n",
        "print(h.getStuffById(1))\n",
        "print(\"=================================\")\n",
        "h.addGuest('Carol',35,'123')\n",
        "print(\"=================================\")\n",
        "print(h.getGuestById(1))\n",
        "print(\"=================================\")\n",
        "h.addGuest(\"Diana\", 32, '431')\n",
        "print(\"=================================\")\n",
        "print(h.getGuestById(2))\n",
        "print(\"=================================\")\n",
        "h.allStaffs()\n",
        "print(\"=================================\")\n",
        "h.allGuest()\n"
      ],
      "metadata": {
        "id": "qffF_tZsk4Ql",
        "colab": {
          "base_uri": "https://localhost:8080/"
        },
        "outputId": "93bf6c22-21c9-48fd-dd36-040c1845ae9b"
      },
      "execution_count": null,
      "outputs": [
        {
          "output_type": "stream",
          "name": "stdout",
          "text": [
            "Staff With ID 1 is added\n",
            "=================================\n",
            "Staff ID: 1\n",
            "Name: Adam\n",
            "Age: 26\n",
            "Phone no.: 000\n",
            "=================================\n",
            "Guest With ID 1 is created\n",
            "=================================\n",
            "Guest ID: 1\n",
            "Name: Carol\n",
            "Age: 35\n",
            "Phone no.: 123\n",
            "=================================\n",
            "Guest With ID 2 is created\n",
            "=================================\n",
            "Guest ID: 2\n",
            "Name: Diana\n",
            "Age: 32\n",
            "Phone no.: 431\n",
            "=================================\n",
            "All Staffs:\n",
            "Number of Staff: 1\n",
            "Staff ID: 1 Name: Adam Age: 26 Phone no.:000\n",
            "=================================\n",
            "All Staffs:\n",
            "Number of Staff: 1\n",
            "Guest ID: 1 Name: Carol Age: 35 Phone no.:123\n",
            "Guest ID: 2 Name: Diana Age: 32 Phone no.:431\n"
          ]
        }
      ]
    },
    {
      "cell_type": "code",
      "source": [
        "#23\n",
        "class Author:\n",
        "  def __init__(self,nm=None):\n",
        "    self.nm=nm\n",
        "    self.list1=[]\n",
        "    self.dict1={}\n",
        "    self.num=0\n",
        "  def addBook(self,bk,title):\n",
        "    \n",
        "    if self.nm==None:\n",
        "      print(\"A book can not be added without author name\")\n",
        "    else:\n",
        "      self.num+=1\n",
        "      if title not in self.dict1:\n",
        "        self.dict1[title]=[bk]\n",
        "      else:\n",
        "        self.dict1[title].append(bk)\n",
        "  def setName(self,nm):\n",
        "      self.nm=nm\n",
        "  def printDetail(self):\n",
        "      print(f\"Number of book(s): {self.num}\\nAuthor Name: {self.nm}\")\n",
        "      for k,v in self.dict1.items():\n",
        "        a=(\", \").join(v)\n",
        "        print(k+\":\",a)\n",
        "a1 = Author()\n",
        "print(\"=================================\")\n",
        "a1.addBook('Ice', 'Science Fiction')\n",
        "print(\"=================================\")\n",
        "a1.setName('Anna Kavan')\n",
        "a1.addBook('Ice', 'Science Fiction')\n",
        "a1.printDetail()\n",
        "print(\"=================================\")\n",
        "a2 = Author('Humayun Ahmed')\n",
        "a2.addBook('Onnobhubon', 'Science Fiction')\n",
        "a2.addBook('Megher Upor Bari', 'Horror')\n",
        "print(\"=================================\")\n",
        "a2.printDetail()\n",
        "a2.addBook('Ireena', 'Science Fiction')\n",
        "print(\"=================================\")\n",
        "a2.printDetail()\n",
        "print(\"=================================\")\n"
      ],
      "metadata": {
        "colab": {
          "base_uri": "https://localhost:8080/"
        },
        "id": "G00_rmTA0GB9",
        "outputId": "d25f99de-3c77-4fc4-dcbd-e6fee4a3870f"
      },
      "execution_count": null,
      "outputs": [
        {
          "output_type": "stream",
          "name": "stdout",
          "text": [
            "=================================\n",
            "A book can not be added without author name\n",
            "=================================\n",
            "Number of book(s): 1\n",
            "Author Name: Anna Kavan\n",
            "Science Fiction: Ice\n",
            "=================================\n",
            "=================================\n",
            "Number of book(s): 2\n",
            "Author Name: Humayun Ahmed\n",
            "Science Fiction: Onnobhubon\n",
            "Horror: Megher Upor Bari\n",
            "=================================\n",
            "Number of book(s): 3\n",
            "Author Name: Humayun Ahmed\n",
            "Science Fiction: Onnobhubon, Ireena\n",
            "Horror: Megher Upor Bari\n",
            "=================================\n"
          ]
        }
      ]
    },
    {
      "cell_type": "code",
      "source": [
        "#24\n",
        "class Hospital:\n",
        "  def __init__(self,nm):\n",
        "    self.dict1={}\n",
        "    self.dict2={}\n",
        "    self.nm1=0\n",
        "    self.nm2=0\n",
        "  def addDoctor(self,dc):\n",
        "    self.nm1+=1\n",
        "    self.dc1=dc.name\n",
        "    self.dc2=dc.id\n",
        "    self.dc3=dc.deg\n",
        "    self.dict1[self.dc2]=[self.dc1,self.dc3]\n",
        "    print(self.dict1)\n",
        "  def getDoctorByID(self,idd):\n",
        "    list1=[]\n",
        "    list2=[]\n",
        "    for k,v in self.dict1.items():\n",
        "       list2.append(k)\n",
        "       for i in v:\n",
        "         list1.append(i)\n",
        "       #print(self.list1)\n",
        "    return f\"Doctore's ID: {list2[0]}\\nName: {list1[0]}\\nSpeciality: {list1[1]}\"\n",
        "  def addPatient(self,pn):\n",
        "    self.nm2+=1\n",
        "    self.pid=pn.idp\n",
        "    self.pnm=pn.nm\n",
        "    self.page=pn.age\n",
        "    self.pphn=pn.phn\n",
        "    self.dict2[self.pid]=[self.pnm,self.page,self.pphn]\n",
        "  def getPatientByID(self,iddp):\n",
        "    list1=[]\n",
        "    list2=[]\n",
        "    for k,v in self.dict2.items():\n",
        "      if k==iddp:\n",
        "        list2.append(k)\n",
        "        for i in v:\n",
        "          list1.append(i)\n",
        "    #print(self.dict2)\n",
        "    return f\"Patient's ID: {list2[0]}\\nName: {list1[0]}\\nAge: {list1[1]}\\nPhone no.: {list1[2]}\"\n",
        "  def allDoctors(self):\n",
        "    print(f\"All Doctors:\\nNumber of doctors: {self.nm1}\")\n",
        "    print(self.dict1)\n",
        "  def allPatients(self):\n",
        "    print(f\"All patients:\\nNumber of patients: {self.nm2}\")\n",
        "    print(self.dict2)\n",
        "class Doctor:\n",
        "  def __init__(self,id,prf,nm,deg):\n",
        "    self.id=id\n",
        "    self.name=nm\n",
        "    self.deg=deg\n",
        "class Patient:\n",
        "  def __init__(self,id,p,nm,age,phn):\n",
        "    self.idp=id\n",
        "    self.nm=nm\n",
        "    self.age=age\n",
        "    self.phn=phn\n",
        "\n",
        "h = Hospital(\"Evercare\")\n",
        "d1 = Doctor(\"1d\",\"Doctor\", \"Samar Kumar\", \"Neurologist\")\n",
        "h.addDoctor(d1)\n",
        "print(\"=================================\")\n",
        "print(h.getDoctorByID(\"1d\"))\n",
        "print(\"=================================\")\n",
        "p1 = Patient(\"1p\",\"Patient\", \"Kashem Ahmed\", 35, 12345)\n",
        "h.addPatient(p1)\n",
        "print(\"=================================\")\n",
        "print(h.getPatientByID(\"1p\"))\n",
        "print(\"=================================\")\n",
        "p2 = Patient (\"2p\",\"Patient\", \"Tanina Haque\", 26, 33456)\n",
        "h.addPatient(p2)\n",
        "print(\"=================================\")\n",
        "print(h.getPatientByID(\"2p\"))\n",
        "print(\"=================================\")\n",
        "h.allDoctors()\n",
        "h.allPatients()\n"
      ],
      "metadata": {
        "colab": {
          "base_uri": "https://localhost:8080/"
        },
        "id": "nZxlW2_LBkiB",
        "outputId": "84e80d96-06fd-47b6-f6af-5e9943ab7527"
      },
      "execution_count": null,
      "outputs": [
        {
          "output_type": "stream",
          "name": "stdout",
          "text": [
            "{'1d': ['Samar Kumar', 'Neurologist']}\n",
            "=================================\n",
            "Doctore's ID: 1d\n",
            "Name: Samar Kumar\n",
            "Speciality: Neurologist\n",
            "=================================\n",
            "=================================\n",
            "Patient's ID: 1p\n",
            "Name: Kashem Ahmed\n",
            "Age: 35\n",
            "Phone no.: 12345\n",
            "=================================\n",
            "=================================\n",
            "Patient's ID: 2p\n",
            "Name: Tanina Haque\n",
            "Age: 26\n",
            "Phone no.: 33456\n",
            "=================================\n",
            "All Doctors:\n",
            "Number of doctors: 1\n",
            "{'1d': ['Samar Kumar', 'Neurologist']}\n",
            "All patients:\n",
            "Number of patients: 2\n",
            "{'1p': ['Kashem Ahmed', 35, 12345], '2p': ['Tanina Haque', 26, 33456]}\n"
          ]
        }
      ]
    },
    {
      "cell_type": "code",
      "source": [
        "#25\n",
        "class Vaccine:\n",
        "  def __init__(self,nm,org,days):\n",
        "    self.nm=nm\n",
        "    self.days=days\n",
        "class Person:\n",
        "  def __init__(self,nm1,age,prf=\"General Citizen\"):\n",
        "    self.nm1=nm1\n",
        "    self.age=age\n",
        "    self.prf=prf\n",
        "    self.list1=[]\n",
        "    self.list2=[]\n",
        "  def pushVaccine(self,vac,dose=\"1st Dose\"):\n",
        "    self.vacnm=vac.nm\n",
        "    self.vacday=vac.days\n",
        "    self.dose=dose\n",
        "    if self.prf==\"Student\" or self.age>=25:\n",
        "      if self.dose==\"1st Dose\":\n",
        "        self.list1.append(self.vacnm)\n",
        "        #print(self.list1)\n",
        "        print(f\"1st dose done for {self.nm1}\")\n",
        "        self.list2.append(self.dose)\n",
        "      elif self.dose==\"2nd Dose\" and self.vacnm==self.list1[0]:\n",
        "        print(f\"2nd dose done for {self.nm1}\")\n",
        "        self.list2.append(self.dose)\n",
        "      else:\n",
        "        print(f\"Sorry {self.nm1}, you can't take two different vaccine.\")\n",
        "    else:\n",
        "      print(f\"Sorry {self.nm1}, Minimum age for taking vaccines is 25 years now.\")\n",
        "  def showDetail(self):\n",
        "    print(f\"Name: {self.nm1} Age: {self.age} Type: {self.prf}\\nVaccine Name: {self.vacnm}\")\n",
        "    if len(self.list2)==2:\n",
        "      print(\"1st dose: Given\\n2nd dose: Given\")\n",
        "    else:\n",
        "      print(\"1st dose : Given\")\n",
        "      print(f\"2nd dose: please come after {self.vacday} days.\")\n",
        "astra = Vaccine(\"AstraZeneca\", \"UK\", 60)\n",
        "modr = Vaccine(\"Moderna\", \"UK\", 30)\n",
        "sin = Vaccine(\"Sinopharm\", \"China\", 30)\n",
        "p1 = Person(\"Bob\", 21, \"Student\")\n",
        "print(\"=================================\")\n",
        "p1.pushVaccine(astra)\n",
        "print(\"=================================\")\n",
        "p1.showDetail()\n",
        "print(\"=================================\")\n",
        "p1.pushVaccine(sin, \"2nd Dose\")\n",
        "print(\"=================================\")\n",
        "p1.pushVaccine(astra, \"2nd Dose\")\n",
        "print(\"=================================\")\n",
        "p1.showDetail()\n",
        "print(\"=================================\")\n",
        "p2 = Person(\"Carol\", 23, \"Actor\")\n",
        "print(\"=================================\")\n",
        "p2.pushVaccine(sin)\n",
        "print(\"=================================\")\n",
        "p3 = Person(\"David\", 34)\n",
        "print(\"=================================\")\n",
        "p3.pushVaccine(modr)\n",
        "print(\"=================================\")\n",
        "p3.showDetail()\n",
        "print(\"=================================\")\n",
        "p3.pushVaccine(modr, \"2nd Dose\")"
      ],
      "metadata": {
        "colab": {
          "base_uri": "https://localhost:8080/"
        },
        "id": "QrwA0UIlPZg0",
        "outputId": "adc745da-f6c7-449a-a530-9756ae0376bf"
      },
      "execution_count": null,
      "outputs": [
        {
          "output_type": "stream",
          "name": "stdout",
          "text": [
            "=================================\n",
            "1st dose done for Bob\n",
            "=================================\n",
            "Name: Bob Age: 21 Type: Student\n",
            "Vaccine Name: AstraZeneca\n",
            "1st dose : Given\n",
            "2nd dose: please come after 60 days.\n",
            "=================================\n",
            "Sorry Bob, you can't take two different vaccine.\n",
            "=================================\n",
            "2nd dose done for Bob\n",
            "=================================\n",
            "Name: Bob Age: 21 Type: Student\n",
            "Vaccine Name: AstraZeneca\n",
            "1st dose: Given\n",
            "2nd dose: Given\n",
            "=================================\n",
            "=================================\n",
            "Sorry Carol, Minimum age for taking vaccines is 25 years now.\n",
            "=================================\n",
            "=================================\n",
            "1st dose done for David\n",
            "=================================\n",
            "Name: David Age: 34 Type: General Citizen\n",
            "Vaccine Name: Moderna\n",
            "1st dose : Given\n",
            "2nd dose: please come after 30 days.\n",
            "=================================\n",
            "2nd dose done for David\n"
          ]
        }
      ]
    },
    {
      "cell_type": "code",
      "source": [
        "#18\n",
        "class Test4:\n",
        "    def __init__(self):\n",
        "        self.sum, self.y = 0, 0\n",
        "    def methodA(self):\n",
        "        x, y = 0, 0\n",
        "        msg = [0]\n",
        "        msg[0] = 5\n",
        "        y = y + self.methodB(msg[0])\n",
        "        x = y + self.methodB(msg, msg[0])\n",
        "        self.sum = x + y + msg[0]\n",
        "        print(x, y, self.sum)\n",
        "    def methodB(self, *args):\n",
        "        if len(args) == 1:\n",
        "            mg1 = args[0]\n",
        "            x, y = 0, 0\n",
        "            y = y + mg1\n",
        "            x = x + 33 + mg1\n",
        "            self.sum = self.sum + x + y\n",
        "            self.y = mg1 + x + 2\n",
        "            print(x, y, self.sum)\n",
        "            return y\n",
        "        else:\n",
        "            mg2, mg1 = args\n",
        "            x = 0\n",
        "            self.y = self.y + mg2[0]\n",
        "            x = x + 33 + mg1\n",
        "            self.sum = self.sum + x + self.y\n",
        "            mg2[0] = self.y + mg1\n",
        "            mg1 = mg1 + x + 2\n",
        "            print(x, self.y, self.sum)\n",
        "            return self.sum\n",
        "\n",
        "t3 = Test4()\n",
        "t3.methodA()\n",
        "t3.methodA()\n",
        "t3.methodA()\n",
        "t3.methodA()\n"
      ],
      "metadata": {
        "colab": {
          "base_uri": "https://localhost:8080/"
        },
        "id": "Ow_E4TwilfGY",
        "outputId": "cb8e50e3-3674-4b04-fe28-8f310f060de3"
      },
      "execution_count": null,
      "outputs": [
        {
          "output_type": "stream",
          "name": "stdout",
          "text": [
            "38 5 43\n",
            "38 50 131\n",
            "136 5 196\n",
            "38 5 239\n",
            "38 50 327\n",
            "332 5 392\n",
            "38 5 435\n",
            "38 50 523\n",
            "528 5 588\n",
            "38 5 631\n",
            "38 50 719\n",
            "724 5 784\n"
          ]
        }
      ]
    },
    {
      "cell_type": "code",
      "source": [
        "class Customer:\n",
        "  def __init__(self,nm):\n",
        "    self.nm=nm\n",
        "  def greet(self,nm=None):\n",
        "    if nm==None:\n",
        "      print(\"Hello!\")\n",
        "    else:\n",
        "      print(f\"Hello {nm}!\")\n",
        "  def purchase(self,*items):\n",
        "    print(f\"{self.nm}, you purchased {len(items)} item(s): \")\n",
        "    for i in items:\n",
        "      print(i)\n",
        "customer_1 = Customer(\"Sam\")\n",
        "customer_1.greet()\n",
        "customer_1.purchase(\"chips\", \"chocolate\", \"orange juice\")\n",
        "print(\"-----------------------------\")\n",
        "customer_2 = Customer(\"David\")\n",
        "customer_2.greet(\"David\")\n",
        "customer_2.purchase(\"orange juice\")\n"
      ],
      "metadata": {
        "colab": {
          "base_uri": "https://localhost:8080/"
        },
        "id": "ybyHG4Kj9xX-",
        "outputId": "95bab54c-9ed0-4fb3-d930-67f93cee7672"
      },
      "execution_count": null,
      "outputs": [
        {
          "output_type": "stream",
          "name": "stdout",
          "text": [
            "Hello!\n",
            "Sam, you purchased 3 item(s): \n",
            "chips\n",
            "chocolate\n",
            "orange juice\n",
            "-----------------------------\n",
            "Hello David!\n",
            "David, you purchased 1 item(s): \n",
            "orange juice\n"
          ]
        }
      ]
    },
    {
      "cell_type": "code",
      "source": [
        "#practise\n",
        "bus_fare={\"Gabtoli\":0,\"Shyamoli\":10,\"Dhanmondi 27\":15} \n",
        "bus_fare[\"Science Lab\"]=20\n",
        "bus_fare[\"Shahabag\"] = 25\n",
        "bus_fare[\"Motsho bhaban\"] = 30\n",
        "bus_fare[\"Stadium\"] = 35\n",
        "print(bus_fare)\n",
        "class Bus:\n",
        "  def __init__(self,num,rt):\n",
        "    self.num=num\n",
        "    self.route=rt\n",
        "    self.a=self.route.split(\"-\")\n",
        "    print(f\"{self.num} is currently at {self.a[0]}\")\n",
        "    self.lisp=[]\n",
        "    self.lisloc=[]\n",
        "    self.total=0\n",
        "  def addPassenger(self,*arg):\n",
        "    \n",
        "    for i in range (len(arg)):\n",
        "      if i%2!=0:\n",
        "        if arg[i] not in bus_fare.keys():\n",
        "          print(f\"Sorry {arg[i-1]}, this bus does not go to {arg[i]}.\")\n",
        "                 \n",
        "        else:\n",
        "          self.lisloc.append(arg[i])\n",
        "      else:\n",
        "        if arg[i+1] in bus_fare:\n",
        "          self.lisp.append(arg[i])\n",
        "          print(arg[i],\"please get on the bus.\")\n",
        "    for k,v in bus_fare.items():\n",
        "      for itm in self.lisloc:\n",
        "        if k==itm:\n",
        "           self.total+=v\n",
        "  def printDetails(self):\n",
        "    lis=self.lisp+self.lisloc\n",
        "    print(lis)\n",
        "    print(f\"Bus Name: {self.num}\\nRoute: {self.route}\\nTotal Passengers: {len(self.lisp)}\")\n",
        "    print(f\"Total fare collected:{self.total} taka.\")\n",
        "    print(\"Passenger list:\")\n",
        "    for p in range (len(lis)-len(self.lisp)):\n",
        "     print(f\"{self.a[0]} to {lis[p+len(self.lisp)]}: {lis[p]}\") \n",
        "     \n",
        "print(\"1.--------------------------------\")\n",
        "b1 = Bus(\"7 no bus\", \"Gabtoli-Gulistan\")\n",
        "print(\"2.--------------------------------\")\n",
        "b1.addPassenger(\"Alice\",\"Science Lab\",\"Bob\",\"Dhanmondi 27\")\n",
        "print(\"3.--------------------------------\")\n",
        "b1.addPassenger(\"Jack\",\"Stadium\",\"Aeron\",\"Shyamoli\")\n",
        "print(\"4.--------------------------------\")\n",
        "b1.printDetails()\n",
        "print(\"5.--------------------------------\")\n",
        "b1.addPassenger(\"Robin\",\"New Market\")\n",
        "print(\"6.--------------------------------\")\n"
      ],
      "metadata": {
        "colab": {
          "base_uri": "https://localhost:8080/"
        },
        "id": "I5bI12ZTHUWk",
        "outputId": "411b3704-440d-4fd2-e7e8-175065d76fc3"
      },
      "execution_count": null,
      "outputs": [
        {
          "output_type": "stream",
          "name": "stdout",
          "text": [
            "{'Gabtoli': 0, 'Shyamoli': 10, 'Dhanmondi 27': 15, 'Science Lab': 20, 'Shahabag': 25, 'Motsho bhaban': 30, 'Stadium': 35}\n",
            "1.--------------------------------\n",
            "7 no bus is currently at Gabtoli\n",
            "2.--------------------------------\n",
            "Alice please get on the bus.\n",
            "Bob please get on the bus.\n",
            "3.--------------------------------\n",
            "Jack please get on the bus.\n",
            "Aeron please get on the bus.\n",
            "4.--------------------------------\n",
            "['Alice', 'Bob', 'Jack', 'Aeron', 'Science Lab', 'Dhanmondi 27', 'Stadium', 'Shyamoli']\n",
            "Bus Name: 7 no bus\n",
            "Route: Gabtoli-Gulistan\n",
            "Total Passengers: 4\n",
            "Total fare collected:115 taka.\n",
            "Passenger list:\n",
            "Gabtoli to Science Lab: Alice\n",
            "Gabtoli to Dhanmondi 27: Bob\n",
            "Gabtoli to Stadium: Jack\n",
            "Gabtoli to Shyamoli: Aeron\n",
            "5.--------------------------------\n",
            "Sorry Robin, this bus does not go to New Market.\n",
            "6.--------------------------------\n"
          ]
        }
      ]
    }
  ]
}