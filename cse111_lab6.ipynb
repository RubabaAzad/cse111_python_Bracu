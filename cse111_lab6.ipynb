{
  "nbformat": 4,
  "nbformat_minor": 0,
  "metadata": {
    "colab": {
      "provenance": []
    },
    "kernelspec": {
      "name": "python3",
      "display_name": "Python 3"
    },
    "language_info": {
      "name": "python"
    }
  },
  "cells": [
    {
      "cell_type": "code",
      "execution_count": null,
      "metadata": {
        "colab": {
          "base_uri": "https://localhost:8080/"
        },
        "id": "JaBFxPysFkph",
        "outputId": "e6568814-ffb7-46e2-e89b-e77737b2df52"
      },
      "outputs": [
        {
          "output_type": "stream",
          "name": "stdout",
          "text": [
            "ID: 1\n",
            "Name: Samin\n",
            "Department: CSE\n",
            "Age: 21\n",
            "CGPA: 3.91\n",
            "-----------------------\n",
            "ID: 2\n",
            "Name: Fahim\n",
            "Department: ECE\n",
            "Age: 21\n",
            "CGPA: 3.85\n",
            "-----------------------\n",
            "ID: 3\n",
            "Name: Tahura\n",
            "Department: EEE\n",
            "Age: 22\n",
            "CGPA: 3.01\n",
            "-----------------------\n",
            "ID: 4\n",
            "Name: Sumaiya\n",
            "Department: BBA\n",
            "Age: 23\n",
            "CGPA: 3.96\n"
          ]
        }
      ],
      "source": [
        "#1\n",
        "class Student:\n",
        "  ID=0\n",
        "  def __init__(self,nm,dep,age,cg):\n",
        "    self.name=nm\n",
        "    self.dep=dep\n",
        "    self.age=age\n",
        "    self.cgpa=cg\n",
        "    Student.ID+=1\n",
        "  def showDetails(self):\n",
        "    print(f\"ID: {Student.ID}\\nName: {self.name}\\nDepartment: {self.dep}\\nAge: {self.age}\\nCGPA: {self.cgpa}\")\n",
        "  @classmethod\n",
        "  def from_String(cls,info):\n",
        "    nm,dep,age,cg=info.split(\"-\")\n",
        "    obj=cls(nm,dep,age,cg)\n",
        "    return obj\n",
        "\n",
        "s1 = Student(\"Samin\", \"CSE\", 21, 3.91)\n",
        "s1.showDetails()\n",
        "print(\"-----------------------\")\n",
        "s2 = Student(\"Fahim\", \"ECE\", 21, 3.85)\n",
        "s2.showDetails()\n",
        "print(\"-----------------------\")\n",
        "s3 = Student(\"Tahura\", \"EEE\", 22, 3.01)\n",
        "s3.showDetails() \n",
        "print(\"-----------------------\")\n",
        "s4 = Student.from_String(\"Sumaiya-BBA-23-3.96\")\n",
        "s4.showDetails() \n"
      ]
    },
    {
      "cell_type": "code",
      "source": [
        "##1\n",
        "class Student:\n",
        "  id=0\n",
        "  def __init__(self,nm,dp,ag,cg):\n",
        "    Student.id+=1\n",
        "    self.nm=nm\n",
        "    self.dep=dp\n",
        "    self.ag=ag\n",
        "    self.cg=cg\n",
        "  def showDetails(self):\n",
        "    print(f\"ID:{Student.id}\\nname:{self.nm}\\ndep:{self.dep}\\nage:{self.ag}\\ncg:{self.cg}\")\n",
        "  @classmethod\n",
        "  def from_String(cls,info):\n",
        "    nm,dp,ag,cg=info.split(\"-\")\n",
        "    obj=cls(nm,dp,ag,cg)\n",
        "    return obj\n",
        "s1 = Student(\"Samin\", \"CSE\", 21, 3.91)\n",
        "s1.showDetails()\n",
        "print(\"-----------------------\")\n",
        "s2 = Student(\"Fahim\", \"ECE\", 21, 3.85)\n",
        "s2.showDetails()\n",
        "print(\"-----------------------\")\n",
        "s3 = Student(\"Tahura\", \"EEE\", 22, 3.01)\n",
        "s3.showDetails() \n",
        "print(\"-----------------------\")\n",
        "s4 = Student.from_String(\"Sumaiya-BBA-23-3.96\")\n",
        "s4.showDetails()\n"
      ],
      "metadata": {
        "colab": {
          "base_uri": "https://localhost:8080/"
        },
        "id": "oRNAKPM18VL-",
        "outputId": "562fbb0d-4ec0-4faa-a53d-5857eedae651"
      },
      "execution_count": null,
      "outputs": [
        {
          "output_type": "stream",
          "name": "stdout",
          "text": [
            "ID:1\n",
            "name:Samin\n",
            "dep:CSE\n",
            "age:21\n",
            "cg:3.91\n",
            "-----------------------\n",
            "ID:2\n",
            "name:Fahim\n",
            "dep:ECE\n",
            "age:21\n",
            "cg:3.85\n",
            "-----------------------\n",
            "ID:3\n",
            "name:Tahura\n",
            "dep:EEE\n",
            "age:22\n",
            "cg:3.01\n",
            "-----------------------\n",
            "ID:4\n",
            "name:Sumaiya\n",
            "dep:BBA\n",
            "age:23\n",
            "cg:3.96\n"
          ]
        }
      ]
    },
    {
      "cell_type": "code",
      "source": [
        "#2\n",
        "class Assassin:\n",
        "  count=0\n",
        "  def __init__(self,nm,num):\n",
        "    Assassin.count+=1\n",
        "    self.nm=nm\n",
        "    self.num=num\n",
        "  def printDetails(self):\n",
        "    print(f\"Name: {self.nm}\\nSuccess rate: {self.num}%\\nTotal number of Assassin: {Assassin.count}\")\n",
        "  @classmethod\n",
        "  def failureRate(cls,nm,num):\n",
        "    nm=nm\n",
        "    num=(100-num)\n",
        "    obj=cls(nm,num)\n",
        "    return obj\n",
        "  @classmethod\n",
        "  def failurePercentage(cls,nm,num):\n",
        "    nm=nm\n",
        "    num=100-int(num[0:2])\n",
        "    obj=cls(nm,num)\n",
        "    return obj\n",
        "john_wick = Assassin('John Wick', 100)\n",
        "john_wick.printDetails()\n",
        "print('================================')\n",
        "nagisa = Assassin.failureRate(\"Nagisa\", 20)\n",
        "nagisa.printDetails()\n",
        "print('================================')\n",
        "akabane = Assassin.failurePercentage(\"Akabane\", \"10%\")\n",
        "akabane.printDetails()\n"
      ],
      "metadata": {
        "colab": {
          "base_uri": "https://localhost:8080/"
        },
        "id": "taC1ebTkH3gb",
        "outputId": "efeda8aa-4214-4c45-861f-5a036a85d50d"
      },
      "execution_count": null,
      "outputs": [
        {
          "output_type": "stream",
          "name": "stdout",
          "text": [
            "Name: John Wick\n",
            "Success rate: 100%\n",
            "Total number of Assassin: 1\n",
            "================================\n",
            "Name: Nagisa\n",
            "Success rate: 80%\n",
            "Total number of Assassin: 2\n",
            "================================\n",
            "Name: Akabane\n",
            "Success rate: 90%\n",
            "Total number of Assassin: 3\n"
          ]
        }
      ]
    },
    {
      "cell_type": "code",
      "source": [
        "#3\n",
        "class Passenger:\n",
        "  count=0\n",
        "  def __init__(self,nm,fr=450):\n",
        "    self.nm=nm\n",
        "    self.fr=fr\n",
        "    Passenger.count+=1\n",
        "  def set_bag_weight(self,wg):\n",
        "    if wg>50:\n",
        "      self.fr+=100\n",
        "    elif 21<=wg<=50:\n",
        "      self.fr+=50\n",
        "    else:\n",
        "      self.fr=self.fr\n",
        "  def printDetail(self):\n",
        "    print(f\"Name: {self.nm}\\nBus fare: {self.fr}\")\n",
        "print('Total Passenger:', Passenger.count)\n",
        "p1 = Passenger('Jack')\n",
        "p1.set_bag_weight(90)\n",
        "p2 = Passenger('Carol')\n",
        "p2.set_bag_weight(10)\n",
        "p3 = Passenger('Mike')\n",
        "p3.set_bag_weight(25)\n",
        "print(\"=========================\")\n",
        "p1.printDetail()\n",
        "print(\"=========================\")\n",
        "p2.printDetail()\n",
        "print(\"=========================\")\n",
        "p3.printDetail()\n",
        "print(\"=========================\")\n",
        "print('Total Passenger:', Passenger.count)\n"
      ],
      "metadata": {
        "colab": {
          "base_uri": "https://localhost:8080/"
        },
        "id": "hdYJiD1PM6pw",
        "outputId": "3fa83bc6-bfe5-4411-8dea-42b0360ac1e8"
      },
      "execution_count": null,
      "outputs": [
        {
          "output_type": "stream",
          "name": "stdout",
          "text": [
            "Total Passenger: 0\n",
            "=========================\n",
            "Name: Jack\n",
            "Bus fare: 550\n",
            "=========================\n",
            "Name: Carol\n",
            "Bus fare: 450\n",
            "=========================\n",
            "Name: Mike\n",
            "Bus fare: 500\n",
            "=========================\n",
            "Total Passenger: 3\n"
          ]
        }
      ]
    },
    {
      "cell_type": "code",
      "source": [
        "#4\n",
        "class Travel:\n",
        "  count=0\n",
        "  def __init__(self,scr,des,time=1):\n",
        "    self.source=scr\n",
        "    self.destination=des\n",
        "    self.time=time\n",
        "    Travel.count+=1\n",
        "  def set_time(self,t):\n",
        "    self.time=t\n",
        "  def set_destination(self,des1):\n",
        "    self.destination=des1\n",
        "  def set_source(self,sc):\n",
        "    self.source=sc\n",
        "  def display_travel_info(self):\n",
        "    return f\"Source: {self.source}\\nDestination:{self.destination}\\nFlight Time:{self.time}:00\"\n",
        "\n",
        "print('No. of Traveller =', Travel.count)\n",
        "print(\"=======================\")\n",
        "t1 = Travel(\"Dhaka\",\"India\")\n",
        "print(t1.display_travel_info())\n",
        "print(\"=======================\")\n",
        "t2 = Travel(\"Kuala Lampur\",\"Dhaka\")\n",
        "t2.set_time(23)\n",
        "print(t2.display_travel_info())\n",
        "print(\"=======================\")\n",
        "t3 = Travel(\"Dhaka\",\"New_Zealand\")\n",
        "t3.set_time(15)\n",
        "t3.set_destination(\"Germany\")\n",
        "print(t3.display_travel_info())\n",
        "print(\"=======================\")\n",
        "t4 = Travel(\"Dhaka\",\"India\")\n",
        "t4.set_time(9)\n",
        "t4.set_source(\"Malaysia\")\n",
        "t4.set_destination(\"Canada\")\n",
        "print(t4.display_travel_info())\n",
        "print(\"=======================\")\n",
        "print('No. of Traveller =', Travel.count)"
      ],
      "metadata": {
        "id": "608WYuI7O8Gf",
        "colab": {
          "base_uri": "https://localhost:8080/"
        },
        "outputId": "39f095d5-b5c2-4e5b-a56c-d5b9d330ea7a"
      },
      "execution_count": null,
      "outputs": [
        {
          "output_type": "stream",
          "name": "stdout",
          "text": [
            "No. of Traveller = 0\n",
            "=======================\n",
            "Source: Dhaka\n",
            "Destination:India\n",
            "Flight Time:1:00\n",
            "=======================\n",
            "Source: Kuala Lampur\n",
            "Destination:Dhaka\n",
            "Flight Time:23:00\n",
            "=======================\n",
            "Source: Dhaka\n",
            "Destination:Germany\n",
            "Flight Time:15:00\n",
            "=======================\n",
            "Source: Malaysia\n",
            "Destination:Canada\n",
            "Flight Time:9:00\n",
            "=======================\n",
            "No. of Traveller = 4\n"
          ]
        }
      ]
    },
    {
      "cell_type": "code",
      "source": [
        "#5\n",
        "class Employee:\n",
        "  def __init__(self,nm,wrkprd):\n",
        "    self.name=nm\n",
        "    self.workingPeriod=wrkprd\n",
        "  @classmethod\n",
        "  def employeeByJoiningYear(cls,nm,wrkprd):\n",
        "    nm=nm\n",
        "    wrkprd=2022-wrkprd\n",
        "    obj=cls(nm,wrkprd)\n",
        "    return obj\n",
        "  @staticmethod\n",
        "  def experienceCheck(yr,gen):\n",
        "    if gen==\"male\" and yr<3:\n",
        "      return f\"he is not experienced\"\n",
        "    elif gen==\"male\" and yr>=3:\n",
        "      return f\"he is experienced\"\n",
        "    if gen==\"female\" and yr<3:\n",
        "      return f\"she is not experienced\"\n",
        "    else:\n",
        "      return f\"she is experienced\"\n",
        "\n",
        "employee1 = Employee('Dororo', 3)\n",
        "employee2 = Employee.employeeByJoiningYear('Harry', 2016)\n",
        "print(employee1.workingPeriod)\n",
        "print(employee2.workingPeriod)\n",
        "print(employee1.name)\n",
        "print(employee2.name)\n",
        "print(Employee.experienceCheck(2, \"male\"))\n",
        "print(Employee.experienceCheck(3, \"female\"))"
      ],
      "metadata": {
        "colab": {
          "base_uri": "https://localhost:8080/"
        },
        "id": "UVsgn8HRPf7s",
        "outputId": "c6d4f551-1b35-4ab7-8411-71b1bf8f34da"
      },
      "execution_count": null,
      "outputs": [
        {
          "output_type": "stream",
          "name": "stdout",
          "text": [
            "3\n",
            "6\n",
            "Dororo\n",
            "Harry\n",
            "he is not experienced\n",
            "she is experienced\n"
          ]
        }
      ]
    },
    {
      "cell_type": "code",
      "source": [
        "#6\n",
        "class Laptop:\n",
        "  laptopCount=0\n",
        "  def __init__(self,nm,num):\n",
        "    self.name=nm\n",
        "    self.count=num\n",
        "    Laptop.laptopCount+=self.count\n",
        "  @classmethod\n",
        "  def advantage(cls):\n",
        "    print(\"Laptops are portable\")\n",
        "  @classmethod\n",
        "  def resetCount(cls):\n",
        "    Laptop.laptopCount=0\n",
        "\n",
        "lenovo = Laptop(\"Lenovo\", 5);\n",
        "dell = Laptop(\"Dell\", 7);\n",
        "print(lenovo.name, lenovo.count)\n",
        "print(dell.name, dell.count)\n",
        "print(\"Total number of Laptops\", Laptop.laptopCount)\n",
        "Laptop.advantage()\n",
        "Laptop.resetCount()\n",
        "print(\"Total number of Laptops\", Laptop.laptopCount)\n"
      ],
      "metadata": {
        "colab": {
          "base_uri": "https://localhost:8080/"
        },
        "id": "IE2cD0avSZcW",
        "outputId": "d9bed6ee-20f0-46df-ffe3-db3064a8b631"
      },
      "execution_count": null,
      "outputs": [
        {
          "output_type": "stream",
          "name": "stdout",
          "text": [
            "Lenovo 5\n",
            "Dell 7\n",
            "Total number of Laptops 12\n",
            "Laptops are portable\n",
            "Total number of Laptops 0\n"
          ]
        }
      ]
    },
    {
      "cell_type": "code",
      "source": [
        "#7\n",
        "class Cat:\n",
        "  Number_of_cats=0\n",
        "  def __init__(self,clr=\"White\",act=\"sitting\"):\n",
        "    self.clr=clr\n",
        "    self.act=act\n",
        "    Cat.Number_of_cats+=1\n",
        "  def changeColor(self,clrr):\n",
        "    self.clr=clrr\n",
        "  def printCat(self):\n",
        "    print(f\"{self.clr} cat is {self.act}\")\n",
        "  @classmethod\n",
        "  def no_parameter(cls):\n",
        "    obj=cls()\n",
        "    return obj\n",
        "  @classmethod\n",
        "  def first_parameter(cls,clr):\n",
        "    obj=cls(clr)\n",
        "    return obj\n",
        "  @classmethod\n",
        "  def second_parameter(cls,act,clr=\"Grey\"):\n",
        "    obj=cls(clr,act)\n",
        "    return obj\n",
        "\n",
        "print(\"Total number of cats:\", Cat.Number_of_cats)\n",
        "c1 = Cat.no_parameter()\n",
        "c2 = Cat.first_parameter(\"Black\")\n",
        "c3 = Cat(\"Brown\", \"jumping\")\n",
        "c4 = Cat(\"Red\", \"purring\")\n",
        "c5 = Cat.second_parameter(\"playing\")\n",
        "print(\"=======================\")\n",
        "c1.printCat()\n",
        "c2.printCat()\n",
        "c3.printCat()\n",
        "c4.printCat()\n",
        "c5.printCat()\n",
        "c1.changeColor(\"Blue\")\n",
        "c3.changeColor(\"Purple\")\n",
        "c1.printCat()\n",
        "c3.printCat()\n",
        "print(\"=======================\")\n",
        "print(\"Total number of cats:\", Cat.Number_of_cats)\n"
      ],
      "metadata": {
        "colab": {
          "base_uri": "https://localhost:8080/"
        },
        "id": "t6BmhGX0dHr5",
        "outputId": "35b32632-6501-4079-e637-1de03bc6637c"
      },
      "execution_count": null,
      "outputs": [
        {
          "output_type": "stream",
          "name": "stdout",
          "text": [
            "Total number of cats: 0\n",
            "=======================\n",
            "White cat is sitting\n",
            "Black cat is sitting\n",
            "Brown cat is jumping\n",
            "Red cat is purring\n",
            "Grey cat is playing\n",
            "Blue cat is sitting\n",
            "Purple cat is jumping\n",
            "=======================\n",
            "Total number of cats: 5\n"
          ]
        }
      ]
    },
    {
      "cell_type": "code",
      "source": [
        "#8\n",
        "import math\n",
        "class Cylinder:\n",
        "  radius=5\n",
        "  height=18\n",
        "  def __init__(self,rd,hg):\n",
        "    print(f\"Default radius={Cylinder.radius} and height={Cylinder.height}.\")\n",
        "    self.radius=rd\n",
        "    self.height=hg\n",
        "    Cylinder.radius=self.radius\n",
        "    Cylinder.height=self.height\n",
        "    print(f\"Updated: radius={Cylinder.radius} and height={Cylinder.height}.\")\n",
        "  @staticmethod\n",
        "  def area(rd,hg):\n",
        "    print (\"Area:\",2*math.pi*rd**2+2*math.pi*rd*hg)\n",
        "  @staticmethod\n",
        "  def volume(rd,hg):\n",
        "    print(\"volume:\",math.pi*rd**2*hg)\n",
        "  @classmethod\n",
        "  def swap(cls,hg,rd):\n",
        "    obj=cls(rd,hg)\n",
        "    return obj\n",
        "  @classmethod\n",
        "  def changeFormat(cls,info):\n",
        "    rd,hg=info.split(\"-\")\n",
        "    rd=float(rd)\n",
        "    hg=float(hg)\n",
        "    obj=cls(rd,hg)\n",
        "    return obj\n",
        "\n",
        "c1 = Cylinder(0,0)\n",
        "Cylinder.area(c1.radius,c1.height)\n",
        "Cylinder.volume(c1.radius,c1.height)\n",
        "print(\"===============================\")\n",
        "c2 = Cylinder.swap(8,3)\n",
        "c2.area(c2.radius,c2.height)\n",
        "c2.volume(c2.radius,c2.height)\n",
        "print(\"===============================\")\n",
        "c3 = Cylinder.changeFormat(\"7-13\")\n",
        "c3.area(c3.radius,c3.height)\n",
        "c3.volume(c3.radius,c3.height)\n",
        "print(\"===============================\")\n",
        "Cylinder(0.3,5.56).area(Cylinder.radius,Cylinder.height)\n",
        "print(\"===============================\")\n",
        "Cylinder(3,5).volume(Cylinder.radius,Cylinder.height)\n"
      ],
      "metadata": {
        "colab": {
          "base_uri": "https://localhost:8080/"
        },
        "id": "Vl2oVgXxhhBp",
        "outputId": "43ed6d93-f780-4e59-c73b-50a48b14d992"
      },
      "execution_count": null,
      "outputs": [
        {
          "output_type": "stream",
          "name": "stdout",
          "text": [
            "Default radius=5 and height=18.\n",
            "Updated: radius=0 and height=0.\n",
            "Area: 0.0\n",
            "volume: 0.0\n",
            "===============================\n",
            "Default radius=0 and height=0.\n",
            "Updated: radius=3 and height=8.\n",
            "Area: 207.34511513692635\n",
            "volume: 226.1946710584651\n",
            "===============================\n",
            "Default radius=3 and height=8.\n",
            "Updated: radius=7.0 and height=13.0.\n",
            "Area: 879.645943005142\n",
            "volume: 2001.1945203366981\n",
            "===============================\n",
            "Default radius=7.0 and height=13.0.\n",
            "Updated: radius=0.3 and height=5.56.\n",
            "Area: 11.045839770021713\n",
            "===============================\n",
            "Default radius=0.3 and height=5.56.\n",
            "Updated: radius=3 and height=5.\n",
            "volume: 141.3716694115407\n"
          ]
        }
      ]
    },
    {
      "cell_type": "code",
      "source": [
        "#9\n",
        "class Student:\n",
        "  total=0\n",
        "  bracu=0\n",
        "  other=0\n",
        "  def __init__(self,nm,dep,ins=\"BRAC University\"):\n",
        "    Student.total+=1\n",
        "    self.name=nm\n",
        "    self.dep=dep\n",
        "    self.ins=ins\n",
        "    if self.ins==\"BRAC University\":\n",
        "      Student.bracu+=1\n",
        "    else:\n",
        "      Student.other+=1\n",
        "  def individualDetail(self):\n",
        "    print(f\"Name: {self.name}\\nDeaprtment: {self.dep}\\nInstitution: {self.ins}\")\n",
        "  @classmethod\n",
        "  def createStudent(cls,nm,dep,ins=\"BRAC University\"):\n",
        "    obj=cls(nm,dep,ins)\n",
        "    return obj\n",
        "  @classmethod\n",
        "  def printDetails(cls):\n",
        "    print(f\"Total Student(s): {Student.total}\\nBRAC University Student(s): {Student.bracu}\\nOther Institution Student(s): {Student.other}\")\n",
        "\n",
        "Student.printDetails()\n",
        "print('#########################')\n",
        "\n",
        "mikasa = Student('Mikasa Ackerman', \"CSE\")\n",
        "mikasa.individualDetail()\n",
        "print('------------------------------------------')\n",
        "Student.printDetails()\n",
        "\n",
        "print('========================')\n",
        "\n",
        "harry = Student.createStudent('Harry Potter', \"Defence Against Dark Arts\", \"Hogwarts School\")\n",
        "harry.individualDetail()\n",
        "print('-------------------------------------------')\n",
        "Student.printDetails()\n",
        "\n",
        "print('=========================')\n",
        "\n",
        "levi = Student.createStudent(\"Levi Ackerman\", \"CSE\")\n",
        "levi.individualDetail()\n",
        "print('--------------------------------------------')\n",
        "Student.printDetails()\n"
      ],
      "metadata": {
        "colab": {
          "base_uri": "https://localhost:8080/"
        },
        "id": "USPF-H5OmrPN",
        "outputId": "877e1cd0-7b48-40cc-8606-192c671c0167"
      },
      "execution_count": null,
      "outputs": [
        {
          "output_type": "stream",
          "name": "stdout",
          "text": [
            "Total Student(s): 0\n",
            "BRAC University Student(s): 0\n",
            "Other Institution Student(s): 0\n",
            "#########################\n",
            "Name: Mikasa Ackerman\n",
            "Deaprtment: CSE\n",
            "Institution: BRAC University\n",
            "------------------------------------------\n",
            "Total Student(s): 1\n",
            "BRAC University Student(s): 1\n",
            "Other Institution Student(s): 0\n",
            "========================\n",
            "Name: Harry Potter\n",
            "Deaprtment: Defence Against Dark Arts\n",
            "Institution: Hogwarts School\n",
            "-------------------------------------------\n",
            "Total Student(s): 2\n",
            "BRAC University Student(s): 1\n",
            "Other Institution Student(s): 1\n",
            "=========================\n",
            "Name: Levi Ackerman\n",
            "Deaprtment: CSE\n",
            "Institution: BRAC University\n",
            "--------------------------------------------\n",
            "Total Student(s): 3\n",
            "BRAC University Student(s): 2\n",
            "Other Institution Student(s): 1\n"
          ]
        }
      ]
    },
    {
      "cell_type": "code",
      "source": [
        "#10\n",
        "class SultansDine:\n",
        "  t_branch=0\n",
        "  total_sell=0\n",
        "  lis=[]\n",
        "  flg=False\n",
        "  def __init__(self,brn):\n",
        "    self.branch=brn\n",
        "    SultansDine.t_branch+=1\n",
        "    SultansDine.flg=True\n",
        "  def sellQuantity(self,num):\n",
        "    #lis1=[]\n",
        "    if num<10:\n",
        "      self.sell=num*300\n",
        "    elif 10<=num<20:\n",
        "      self.sell=num*350\n",
        "    elif num>=20:\n",
        "      self.sell=num*400\n",
        "    SultansDine.total_sell+=self.sell\n",
        "    percent=self.sell/SultansDine.total_sell\n",
        "    SultansDine.lis.extend([self.branch,self.sell,percent])\n",
        "  def branchInformation(self):\n",
        "    print(f\"Branch Name: {self.branch}\\nBranch Sell:{self.sell} Taka\")\n",
        "  @classmethod\n",
        "  def details(cls):\n",
        "    if SultansDine.flg==False:\n",
        "      print(f\"Total Number of branch(s): {SultansDine.t_branch}\\nTotal Sell: {SultansDine.total_sell} taka\")\n",
        "    else:\n",
        "      print(f\"Total Number of branch(s): {SultansDine.t_branch}\\nTotal Sell: {SultansDine.total_sell} taka\")\n",
        "      if len(SultansDine.lis)==3:\n",
        "        print(f\"Branch Name: {SultansDine.lis[0]},Branch Sell: {SultansDine.lis[1]}\")\n",
        "        percnt=(SultansDine.lis[1]/SultansDine.total_sell)*100\n",
        "        print(f\"Branch consists of total sell's: {percnt}\") \n",
        "      elif len(SultansDine.lis)==6:\n",
        "        print(f\"Branch Name: {SultansDine.lis[0]},Branch Sell: {SultansDine.lis[1]}\")\n",
        "        percnt=(SultansDine.lis[1]/SultansDine.total_sell)*100\n",
        "        print(f\"Branch consists of total sell's: {percnt}\")\n",
        "        print(f\"Branch Name: {SultansDine.lis[3]},Branch Sell: {SultansDine.lis[4]}\")\n",
        "        percnt1=(SultansDine.lis[4]/SultansDine.total_sell)*100\n",
        "        print(f\"Branch consists of total sell's: {percnt1}\")\n",
        "      elif len(SultansDine.lis)==9:\n",
        "        print(f\"Branch Name: {SultansDine.lis[0]},Branch Sell: {SultansDine.lis[1]}\")\n",
        "        percnt=(SultansDine.lis[1]/SultansDine.total_sell)*100\n",
        "        print(f\"Branch consists of total sell's: {percnt}\")\n",
        "        print(f\"Branch Name: {SultansDine.lis[3]},Branch Sell: {SultansDine.lis[4]}\")\n",
        "        percnt1=(SultansDine.lis[4]/SultansDine.total_sell)*100\n",
        "        print(f\"Branch consists of total sell's: {percnt1}\")   \n",
        "        print(f\"Branch Name: {SultansDine.lis[6]},Branch Sell: {SultansDine.lis[7]}\")\n",
        "        percnt2=(SultansDine.lis[7]/SultansDine.total_sell)*100\n",
        "        print(f\"Branch consists of total sell's: {percnt2}\")\n",
        "SultansDine.details()\n",
        "print('########################')\n",
        "dhanmodi = SultansDine('Dhanmondi')\n",
        "dhanmodi.sellQuantity(25)\n",
        "dhanmodi.branchInformation()\n",
        "print('-----------------------------------------')\n",
        "SultansDine.details()\n",
        "\n",
        "print('========================')\n",
        "\n",
        "baily_road = SultansDine('Baily Road')\n",
        "baily_road.sellQuantity(15)\n",
        "baily_road.branchInformation()\n",
        "print('-----------------------------------------')\n",
        "SultansDine.details()\n",
        "\n",
        "print('========================')\n",
        "\n",
        "gulshan = SultansDine('Gulshan')\n",
        "gulshan.sellQuantity(9)\n",
        "gulshan.branchInformation()\n",
        "print('-----------------------------------------')\n",
        "SultansDine.details()\n"
      ],
      "metadata": {
        "colab": {
          "base_uri": "https://localhost:8080/"
        },
        "id": "ZiWtoZLNvuaB",
        "outputId": "332b186f-97ca-49a1-c38d-78deca2af387"
      },
      "execution_count": null,
      "outputs": [
        {
          "output_type": "stream",
          "name": "stdout",
          "text": [
            "Total Number of branch(s): 0\n",
            "Total Sell: 0 taka\n",
            "########################\n",
            "Branch Name: Dhanmondi\n",
            "Branch Sell:10000 Taka\n",
            "-----------------------------------------\n",
            "Total Number of branch(s): 1\n",
            "Total Sell: 10000 taka\n",
            "Branch Name: Dhanmondi,Branch Sell: 10000\n",
            "Branch consists of total sell's: 100.0\n",
            "========================\n",
            "Branch Name: Baily Road\n",
            "Branch Sell:5250 Taka\n",
            "-----------------------------------------\n",
            "Total Number of branch(s): 2\n",
            "Total Sell: 15250 taka\n",
            "Branch Name: Dhanmondi,Branch Sell: 10000\n",
            "Branch consists of total sell's: 65.57377049180327\n",
            "Branch Name: Baily Road,Branch Sell: 5250\n",
            "Branch consists of total sell's: 34.42622950819672\n",
            "========================\n",
            "Branch Name: Gulshan\n",
            "Branch Sell:2700 Taka\n",
            "-----------------------------------------\n",
            "Total Number of branch(s): 3\n",
            "Total Sell: 17950 taka\n",
            "Branch Name: Dhanmondi,Branch Sell: 10000\n",
            "Branch consists of total sell's: 55.71030640668524\n",
            "Branch Name: Baily Road,Branch Sell: 5250\n",
            "Branch consists of total sell's: 29.247910863509752\n",
            "Branch Name: Gulshan,Branch Sell: 2700\n",
            "Branch consists of total sell's: 15.041782729805014\n"
          ]
        }
      ]
    },
    {
      "cell_type": "code",
      "source": [
        "#11\n",
        "class Puzzle:\n",
        "    x = 0\n",
        "    def methodA(self):\n",
        "        Puzzle.x = 5 \n",
        "        z = Puzzle.x + self.methodB(Puzzle.x)\n",
        "        print(Puzzle.x, z)\n",
        "        z = self.methodB(z + 2) + Puzzle.x\n",
        "        print(Puzzle.x, z)\n",
        "        self.methodB(Puzzle.x, z)\n",
        "        print(Puzzle.x, z)\n",
        "    def methodB(self, *args):\n",
        "        if len(args) == 1:\n",
        "            y = args[0]\n",
        "            Puzzle.x = y + Puzzle.x\n",
        "            print(Puzzle.x, y)\n",
        "            return Puzzle.x + 3\n",
        "        else:\n",
        "            z, x = args\n",
        "            z = z + 1\n",
        "            x = x + 1\n",
        "            print(z, x)\n",
        "p = Puzzle()\n",
        "p.methodA()\n",
        "p.methodA()\n",
        "p = Puzzle()\n",
        "#print(Puzzle.x)\n",
        "p.methodA()\n",
        "p.methodB(7)\n",
        "\n"
      ],
      "metadata": {
        "colab": {
          "base_uri": "https://localhost:8080/"
        },
        "id": "noK1YyY8DF9I",
        "outputId": "d1ceb41b-d0a2-44c3-f68d-ce982137b373"
      },
      "execution_count": null,
      "outputs": [
        {
          "output_type": "stream",
          "name": "stdout",
          "text": [
            "10 5\n",
            "10 18\n",
            "30 20\n",
            "30 63\n",
            "31 64\n",
            "30 63\n",
            "10 5\n",
            "10 18\n",
            "30 20\n",
            "30 63\n",
            "31 64\n",
            "30 63\n",
            "10 5\n",
            "10 18\n",
            "30 20\n",
            "30 63\n",
            "31 64\n",
            "30 63\n",
            "37 7\n"
          ]
        },
        {
          "output_type": "execute_result",
          "data": {
            "text/plain": [
              "40"
            ]
          },
          "metadata": {},
          "execution_count": 8
        }
      ]
    },
    {
      "cell_type": "code",
      "source": [
        "#12\n",
        "class FinalT6A:\n",
        "    temp = 3\n",
        " \n",
        "    def __init__(self, x, p):\n",
        "        self.sum, self.y = 0, 2\n",
        "        FinalT6A.temp += 3\n",
        "        self.y = self.temp - p\n",
        "        self.sum = self.temp + x\n",
        "        print(x, self.y, self.sum)\n",
        "    \n",
        "    def methodA(self):\n",
        "        x, y = 0, 0\n",
        "        y = y + self.y\n",
        "        x = self.y + 2 + self.temp\n",
        "        self.sum = x + y + self.methodB(self.temp, y)\n",
        "        print(x, y, self.sum)\n",
        "    \n",
        "    def methodB(self, temp, n):\n",
        "        x = 0\n",
        "        FinalT6A.temp += 1\n",
        "        self.y = self.y + (FinalT6A.temp)\n",
        "        FinalT6A.temp -= 1\n",
        "        x = x + 2 + n\n",
        "        self.sum = self.sum + x + self.y\n",
        "        print(x, self.y, self.sum)\n",
        "        return self.sum\n",
        "\n",
        "q1 = FinalT6A(2,1)\n",
        "q1.methodA()\n",
        "q1.methodA()\n"
      ],
      "metadata": {
        "colab": {
          "base_uri": "https://localhost:8080/"
        },
        "id": "NXzslz5-DbU5",
        "outputId": "7c7d3aef-8231-4b88-9d28-4de397142fb5"
      },
      "execution_count": null,
      "outputs": [
        {
          "output_type": "stream",
          "name": "stdout",
          "text": [
            "2 5 8\n",
            "7 12 27\n",
            "13 5 45\n",
            "14 19 78\n",
            "20 12 110\n"
          ]
        }
      ]
    },
    {
      "cell_type": "code",
      "source": [
        "#13\n",
        "class A:\n",
        "    temp = 4\n",
        "    def __init__(self):\n",
        "        self.y = self.temp - 2\n",
        "        self.sum = self.temp + 1\n",
        "        A.temp -= 2\n",
        "        self.methodA(3, 4)\n",
        "    def methodA(self, m, n):\n",
        "        x = 0\n",
        "        self.y = self.y + m + (self.temp)\n",
        "        A.temp += 1\n",
        "        x = x + 1 + n\n",
        "        self.sum = self.sum + x + self.y\n",
        "        print(x, self.y, self.sum)\n",
        "    \n",
        "class B:\n",
        "    x = 0\n",
        "    def __init__(self, b = None):\n",
        "        self.y, self.temp, self.sum = 5, -5, 2\n",
        " \n",
        "        if b == None:\n",
        "            self.y = self.temp + 3\n",
        "            self.sum = 3 + self.temp + 2\n",
        "            self.temp -= 2\n",
        "        else:\n",
        "            self.sum = b.sum\n",
        "            B.x = b.x\n",
        "            b.methodB(2, 3)\n",
        "    def methodA(self, m, n):\n",
        "        x = 2\n",
        "        self.y = self.y + m + (self.temp)\n",
        "        self.temp += 1\n",
        "        x = x + 5 + n\n",
        "        self.sum = self.sum + x + self.y\n",
        "        print(x, self.y, self.sum)\n",
        "    def methodB(self, m, n):\n",
        "        y = 0\n",
        "        y = y + self.y\n",
        "        B.x = self.y + 2 + self.temp\n",
        "        self.methodA(self.x, y)\n",
        "        self.sum = self.x + y + self.sum\n",
        "        print(self.x, y, self.sum)\n",
        "\n",
        "a1=A()\n",
        "b1=B()\n",
        "b2=B(b1)\n",
        "b1.methodA(1,2)\n",
        "b2.methodB(3,2)"
      ],
      "metadata": {
        "colab": {
          "base_uri": "https://localhost:8080/"
        },
        "id": "hlXgPhI8DtUh",
        "outputId": "5cafa823-9cc2-46f2-b4dc-e38b261731fe"
      },
      "execution_count": null,
      "outputs": [
        {
          "output_type": "stream",
          "name": "stdout",
          "text": [
            "5 7 17\n",
            "5 -16 -11\n",
            "-7 -2 -20\n",
            "9 -21 -32\n",
            "12 2 14\n",
            "2 5 21\n"
          ]
        }
      ]
    },
    {
      "cell_type": "code",
      "source": [
        "#14\n",
        "class msgClass:\n",
        "    def __init__(self):\n",
        "        self.content = 0\n",
        " \n",
        "class Quiz3:\n",
        "    x = 0\n",
        "    def __init__(self, k = None):\n",
        "        self.sum, self.y = 0, 0\n",
        "        if k is None:\n",
        "            self.sum = 5\n",
        "            Quiz3.x = 2\n",
        "            self.y = 2\n",
        "        else:\n",
        "            self.sum = self.sum + k\n",
        "            self.y = 3\n",
        "            Quiz3.x += 2    \n",
        "    def methodA(self):\n",
        "        x = 1\n",
        "        y = 1\n",
        "        msg = [None]\n",
        "        myMsg = msgClass()\n",
        "        myMsg.content = Quiz3.x\n",
        "        msg[0] = myMsg\n",
        "        msg[0].content = self.y + myMsg.content\n",
        "        self.y = self.y + self.methodB(msg[0])\n",
        "        y = self.methodB(msg[0]) + self.y\n",
        "        x = y + self.methodB(msg, msg[0])\n",
        "        self.sum = x + y + msg[0].content\n",
        "        print(x, y, self.sum)\n",
        "    def methodB(self, *args):\n",
        "        if len(args) == 2:\n",
        "            mg2, mg1 = args\n",
        "            x = 2\n",
        "            self.y = self.y + mg2[0].content\n",
        "            mg2[0].content = self.y + mg1.content\n",
        "            x = x + 2 + mg1.content\n",
        "            self.sum = self.sum + x + self.y\n",
        "            mg1.content = self.sum - mg2[0].content\n",
        "            print(Quiz3.x, self.y, self.sum)\n",
        "            return self.sum\n",
        "        \n",
        "        elif len(args) == 1:\n",
        "            mg1, = args\n",
        "            x = 1\n",
        "            y = 2\n",
        "            y = self.sum + mg1.content\n",
        "            self.y = y + mg1.content\n",
        "            x = Quiz3.x + 5 + mg1.content\n",
        "            self.sum = self.sum + x + y\n",
        "            Quiz3.x = mg1.content + x + 3\n",
        "            print(x, y, self.sum)\n",
        "            return y\n",
        "a1 = Quiz3()\n",
        "a2 = Quiz3(5)\n",
        "msg = msgClass()\n",
        "a1.methodA()\n",
        "a2.methodB(msg)\n"
      ],
      "metadata": {
        "colab": {
          "base_uri": "https://localhost:8080/"
        },
        "id": "rttIOSqOEKKW",
        "outputId": "66926d28-859b-49b5-84ca-8014e6f447cd"
      },
      "execution_count": null,
      "outputs": [
        {
          "output_type": "stream",
          "name": "stdout",
          "text": [
            "15 11 31\n",
            "35 37 103\n",
            "44 49 211\n",
            "291 80 527\n",
            "49 5 59\n"
          ]
        },
        {
          "output_type": "execute_result",
          "data": {
            "text/plain": [
              "5"
            ]
          },
          "metadata": {},
          "execution_count": 6
        }
      ]
    }
  ]
}