{
  "nbformat": 4,
  "nbformat_minor": 0,
  "metadata": {
    "colab": {
      "provenance": []
    },
    "kernelspec": {
      "name": "python3",
      "display_name": "Python 3"
    },
    "language_info": {
      "name": "python"
    }
  },
  "cells": [
    {
      "cell_type": "code",
      "execution_count": null,
      "metadata": {
        "colab": {
          "base_uri": "https://localhost:8080/"
        },
        "id": "OPa0TVQ9sz-2",
        "outputId": "081521dd-9974-4f22-bf3d-ae4da85f9596"
      },
      "outputs": [
        {
          "output_type": "stream",
          "name": "stdout",
          "text": [
            "Name: Default Department: BBA\n",
            "Name: Humpty Dumpty Department: BBA\n",
            "Name: Little Bo Peep Department: BBA\n"
          ]
        }
      ],
      "source": [
        "#1\n",
        "class Student:\n",
        "    def __init__(self, name='Just a student', dept='nothing'):\n",
        "        self.__name = name\n",
        "        self.__department = dept\n",
        "    def set_department(self, dept):\n",
        "        self.__department = dept\n",
        "    def get_name(self):\n",
        "        return self.__name\n",
        "    def set_name(self,name):\n",
        "        self.__name = name\n",
        "    def __str__(self):\n",
        "        return 'Name: '+self.__name+' Department: '+self.__department\n",
        "class BBA_Student(Student):\n",
        "  def __init__(self,name=\"Default\",dept=\"BBA\"):\n",
        "    super().__init__(name, dept)\n",
        "    super().__str__()\n",
        "print(BBA_Student())\n",
        "print(BBA_Student('Humpty Dumpty'))\n",
        "print(BBA_Student('Little Bo Peep'))"
      ]
    },
    {
      "cell_type": "code",
      "source": [
        "#2\n",
        "class Vehicle:\n",
        "    def __init__(self):\n",
        "        self.x = 0\n",
        "        self.y = 0\n",
        "    def moveUp(self):\n",
        "        self.y += 1\n",
        "    def moveDown(self):\n",
        "        self.y -= 1\n",
        "    def moveRight(self):\n",
        "        self.x += 1\n",
        "    def moveLeft(self):\n",
        "        self.x -= 1\n",
        "    def __str__(self):\n",
        "        return '('+str(self.x)+' , '+str(self.y)+')'\n",
        "class Vehicle2010(Vehicle):\n",
        "  def __init__(self):\n",
        "    super().__init__()\n",
        "  def  moveUpperRight(self):\n",
        "    super().moveUp()\n",
        "    super().moveRight()\n",
        "  def moveUpperLeft(self):\n",
        "    super().moveUp()\n",
        "    super().moveLeft()\n",
        "  def moveLowerRight(self):\n",
        "    super().moveDown()\n",
        "    super().moveRight()\n",
        "  def moveLowerLeft(self):\n",
        "    super().moveDown()\n",
        "    super().moveLeft()\n",
        "  def equals(self,new):\n",
        "    if self.x==new.x and self.y==new.y:\n",
        "      return True\n",
        "    else:\n",
        "      return False\n",
        "print('Part 1')\n",
        "print('------')\n",
        "car = Vehicle()\n",
        "print(car)\n",
        "car.moveUp()\n",
        "print(car)\n",
        "car.moveLeft()\n",
        "print(car)\n",
        "car.moveDown()\n",
        "print(car)\n",
        "car.moveRight()\n",
        "print(car)\n",
        "print('------')\n",
        "print('Part 2')\n",
        "print('------')\n",
        "car1 = Vehicle2010()\n",
        "print(car1)\n",
        "car1.moveLowerLeft()\n",
        "print(car1)\n",
        "car2 = Vehicle2010()\n",
        "car2.moveLeft()\n",
        "print(car1.equals(car2))\n",
        "car2.moveDown()\n",
        "print(car1.equals(car2))"
      ],
      "metadata": {
        "colab": {
          "base_uri": "https://localhost:8080/"
        },
        "id": "PaWDMtnuxwlJ",
        "outputId": "f102d739-086b-43d2-a7d5-5ef0672a132a"
      },
      "execution_count": null,
      "outputs": [
        {
          "output_type": "stream",
          "name": "stdout",
          "text": [
            "Part 1\n",
            "------\n",
            "(0 , 0)\n",
            "(0 , 1)\n",
            "(-1 , 1)\n",
            "(-1 , 0)\n",
            "(0 , 0)\n",
            "------\n",
            "Part 2\n",
            "------\n",
            "(0 , 0)\n",
            "(-1 , -1)\n",
            "False\n",
            "True\n"
          ]
        }
      ]
    },
    {
      "cell_type": "code",
      "source": [
        "#3\n",
        "class Tournament:\n",
        "    def __init__(self,name='Default'):\n",
        "        self.__name = name\n",
        "    def set_name(self,name):\n",
        "        self.__name = name\n",
        "    def get_name(self):\n",
        "        return self.__name\n",
        "class Cricket_Tournament(Tournament):\n",
        "  def __init__(self,name=\"Default\",num=0,typ='No type'):\n",
        "    super().__init__(name)\n",
        "    self.num=num\n",
        "    self.typ=typ\n",
        "  def detail(self):\n",
        "    return f\"Cricket Tournament Name: {self.get_name()}\\nNumber of Teams: {self.num}\\nType: {self.typ}\"\n",
        "class Tennis_Tournament(Tournament):\n",
        "  def __init__(self,name,player):\n",
        "    super().__init__(name)\n",
        "    self.play=player\n",
        "  def detail(self):\n",
        "    return f\"Tennis Tournament Name: {self.get_name()}\\nNumber of Players: {self.play}\"\n",
        "\n",
        "ct1 = Cricket_Tournament()\n",
        "print(ct1.detail())\n",
        "print(\"-----------------------\")\n",
        "ct2 = Cricket_Tournament(\"IPL\",10,\"t20\")\n",
        "print(ct2.detail())\n",
        "print(\"-----------------------\")\n",
        "tt = Tennis_Tournament(\"Roland Garros\",128)\n",
        "print(tt.detail())\n"
      ],
      "metadata": {
        "colab": {
          "base_uri": "https://localhost:8080/"
        },
        "id": "ise2Pucx0UVP",
        "outputId": "865841b7-5177-4b8d-f562-3ba44c5c732d"
      },
      "execution_count": null,
      "outputs": [
        {
          "output_type": "stream",
          "name": "stdout",
          "text": [
            "Cricket Tournament Name: Default\n",
            "Number of Teams: 0\n",
            "Type: No type\n",
            "-----------------------\n",
            "Cricket Tournament Name: IPL\n",
            "Number of Teams: 10\n",
            "Type: t20\n",
            "-----------------------\n",
            "Tennis Tournament Name: Roland Garros\n",
            "Number of Players: 128\n"
          ]
        }
      ]
    },
    {
      "cell_type": "code",
      "source": [
        "#4\n",
        "class Product:\n",
        "    def __init__(self,id, title, price):\n",
        "        self.__id = id\n",
        "        self.__title = title\n",
        "        self.__price = price\n",
        "    def get_id_title_price(self):\n",
        "        return \"ID: \"+str(self.__id)+\" Title:\"+self.__title+\" Price: \"+str(self.__price)\n",
        "class Book(Product):\n",
        "  def __init__(self,id,title,price,num,pub):\n",
        "    super().__init__(id,title,price)\n",
        "    self.num=num\n",
        "    self.publisher=pub\n",
        "  def printDetail(self):\n",
        "    return f\"{self.get_id_title_price()}\\nISBN: {self.num} Publisher: {self.publisher}\"\n",
        "class CD(Product):\n",
        "  def __init__(self,id,title,price,band,tm,gen):\n",
        "    super().__init__(id,title,price)\n",
        "    self.band=band\n",
        "    self.duration=tm\n",
        "    self.genre=gen\n",
        "  def printDetail(self):\n",
        "    return f\"{self.get_id_title_price()}\\nBand: {self.band} Duration: {self.duration} minutes\\nGenre: {self.genre}\"\n",
        "book = Book(1,\"The Alchemist\",500,\"97806\",\"HarperCollins\")\n",
        "print(book.printDetail())\n",
        "print(\"-----------------------\")\n",
        "cd = CD(2,\"Shotto\",300,\"Warfaze\",50,\"Hard Rock\")\n",
        "print(cd.printDetail())\n"
      ],
      "metadata": {
        "colab": {
          "base_uri": "https://localhost:8080/"
        },
        "id": "67xFJE5M2y0s",
        "outputId": "7c11bae6-e4e2-4b7e-a9a7-4b15f947ad92"
      },
      "execution_count": null,
      "outputs": [
        {
          "output_type": "stream",
          "name": "stdout",
          "text": [
            "ID: 1 Title:The Alchemist Price: 500\n",
            "ISBN: 97806 Publisher: HarperCollins\n",
            "-----------------------\n",
            "ID: 2 Title:Shotto Price: 300\n",
            "Band: Warfaze Duration: 50 minutes\n",
            "Genre: Hard Rock\n"
          ]
        }
      ]
    },
    {
      "cell_type": "code",
      "source": [
        "#5\n",
        "class Animal:   \n",
        "    def __init__(self,sound):\n",
        "        self.__sound = sound\n",
        "        \n",
        "    def makeSound(self):\n",
        "        return self.__sound\n",
        "class Printer:   \n",
        "    def printSound(self, a):\n",
        "        print(a.makeSound())\n",
        "class Dog(Animal):\n",
        "  pass\n",
        "class Cat(Animal):\n",
        "  pass\n",
        "d1 = Dog('bark')\n",
        "c1 = Cat('meow')\n",
        "a1 = Animal('Animal does not make sound')\n",
        "pr = Printer()\n",
        "pr.printSound(a1)\n",
        "pr.printSound(c1)\n",
        "pr.printSound(d1)"
      ],
      "metadata": {
        "colab": {
          "base_uri": "https://localhost:8080/"
        },
        "id": "3XFNgCR7-NbH",
        "outputId": "ac2a930d-993c-4f8f-c34a-19f1873bd560"
      },
      "execution_count": null,
      "outputs": [
        {
          "output_type": "stream",
          "name": "stdout",
          "text": [
            "Animal does not make sound\n",
            "meow\n",
            "bark\n"
          ]
        }
      ]
    },
    {
      "cell_type": "code",
      "source": [
        "#6\n",
        "class Shape:\n",
        "\n",
        "  def __init__(self, name='Default', height=0, base=0):\n",
        "    self.area = 0\n",
        "    self.name = name\n",
        "    self.height = height\n",
        "    self.base = base\n",
        "\n",
        "  def get_height_base(self):\n",
        "    return \"Height: \"+str(self.height)+\",Base: \"+str(self.base)\n",
        "class triangle(Shape):\n",
        "  def __init__(self,name=\"default\",height=0,base=0):\n",
        "    super().__init__(name,height,base)\n",
        "  def calcArea(self):\n",
        "    self.area=0.5*self.height*self.base\n",
        "  def printDetail(self):\n",
        "    return f\"Shape name: {self.name}\\n{self.get_height_base()}\\nArea: {self.area}\"\n",
        "class trapezoid(Shape):\n",
        "  def __init__(self,name,height,base,side):\n",
        "    super().__init__(name,height,base)\n",
        "    self.side=side\n",
        "  def calcArea(self):\n",
        "    self.area=0.5*self.height*(self.base+self.side)\n",
        "  def printDetail(self):\n",
        "    return f\"Shape name: {self.name}\\n{self.get_height_base()}, Side_A: {self.side}\\nArea: {self.area}\"\n",
        "tri_default = triangle()\n",
        "tri_default.calcArea()\n",
        "print(tri_default.printDetail())\n",
        "print('--------------------------')\n",
        "tri = triangle('Triangle', 10, 5)\n",
        "tri.calcArea()\n",
        "print(tri.printDetail())\n",
        "print('---------------------------')\n",
        "trap = trapezoid('Trapezoid', 10, 6, 4)\n",
        "trap.calcArea()\n",
        "print(trap.printDetail())\n"
      ],
      "metadata": {
        "colab": {
          "base_uri": "https://localhost:8080/"
        },
        "id": "twgAmOa9B-pE",
        "outputId": "c3175d75-e398-4682-b38f-7d1afff7bbb7"
      },
      "execution_count": null,
      "outputs": [
        {
          "output_type": "stream",
          "name": "stdout",
          "text": [
            "Shape name: default\n",
            "Height: 0,Base: 0\n",
            "Area: 0.0\n",
            "--------------------------\n",
            "Shape name: Triangle\n",
            "Height: 10,Base: 5\n",
            "Area: 25.0\n",
            "---------------------------\n",
            "Shape name: Trapezoid\n",
            "Height: 10,Base: 6, Side_A: 4\n",
            "Area: 50.0\n"
          ]
        }
      ]
    },
    {
      "cell_type": "code",
      "source": [
        "#7\n",
        "class Football:\n",
        "    def __init__(self, team_name, name, role):\n",
        "        self.__team = team_name\n",
        "        self.__name = name\n",
        "        self.role = role\n",
        "        self.earning_per_match = 0\n",
        "    def get_name_team(self):\n",
        "        return 'Name: '+self.__name+', Team Name: ' +self.__team\n",
        "\n",
        "class Player(Football):\n",
        "    def __init__(self, team_name, name, role, tg, tp):\n",
        "        super().__init__(team_name, name, role)\n",
        "        self.tg = tg\n",
        "        self.tp = tp\n",
        "        self.gr = 0\n",
        "    def calculate_ratio(self):\n",
        "        self.gr = self.tg/self.tp\n",
        "        self.earning_per_match = (self.tg * 1000) + (self.tp * 10)\n",
        "    def print_details(self):\n",
        "        print(f\"{self.get_name_team()}\\nTeam Role: {self.role}\\nTotal Goal: {self.tg}, Total Played: {self.tp}\\nGoal Ratio: {self.gr}\\nMatch Earning: {self.earning_per_match}K\")\n",
        "\n",
        "class Manager(Football):\n",
        "    def __init__(self, team_name, name, role, win):\n",
        "        super().__init__(team_name, name, role)\n",
        "        self.win = win\n",
        "        self.me = self.win * 1000\n",
        "    def print_details(self):\n",
        "        print(\"{}\\nTeam Role: {}\\nTotal Win: {}\\nMatch Earning: {}K\".format(self.get_name_team(), self.role, self.win, self.me))\n",
        "\n",
        "player_one = Player('Juventus', 'Ronaldo', 'Striker', 25, 32)\n",
        "player_one.calculate_ratio()\n",
        "player_one.print_details()\n",
        "print('------------------------------------------')\n",
        "manager_one = Manager('Real Madrid', 'Zidane', 'Manager', 25)\n",
        "manager_one.print_details()"
      ],
      "metadata": {
        "id": "D9aPLNZeD_m2",
        "colab": {
          "base_uri": "https://localhost:8080/"
        },
        "outputId": "73f08b46-da32-4e4a-ead1-959d28d43ea9"
      },
      "execution_count": null,
      "outputs": [
        {
          "output_type": "stream",
          "name": "stdout",
          "text": [
            "Name: Ronaldo, Team Name: Juventus\n",
            "Team Role: Striker\n",
            "Total Goal: 25, Total Played: 32\n",
            "Goal Ratio: 0.78125\n",
            "Match Earning: 25320K\n",
            "------------------------------------------\n",
            "Name: Zidane, Team Name: Real Madrid\n",
            "Team Role: Manager\n",
            "Total Win: 25\n",
            "Match Earning: 25000K\n"
          ]
        }
      ]
    }
  ]
}