{
  "nbformat": 4,
  "nbformat_minor": 0,
  "metadata": {
    "colab": {
      "provenance": []
    },
    "kernelspec": {
      "name": "python3",
      "display_name": "Python 3"
    },
    "language_info": {
      "name": "python"
    }
  },
  "cells": [
    {
      "cell_type": "code",
      "source": [
        "#1\n",
        "\n",
        "def fraction(num1,num2):\n",
        "  a=None\n",
        "  if num2==0 or num1==0:\n",
        "    return 0\n",
        "  else:\n",
        "    a=(num1/num2)-int(num1/num2)\n",
        "    return a\n",
        "fraction(int(input()),int(input()))"
      ],
      "metadata": {
        "colab": {
          "base_uri": "https://localhost:8080/"
        },
        "id": "bRhzkqhjaNj7",
        "outputId": "3e056b97-e818-4f08-aa54-92cbe335847a"
      },
      "execution_count": null,
      "outputs": [
        {
          "name": "stdout",
          "output_type": "stream",
          "text": [
            "5\n",
            "2\n"
          ]
        },
        {
          "output_type": "execute_result",
          "data": {
            "text/plain": [
              "0.5"
            ]
          },
          "metadata": {},
          "execution_count": 12
        }
      ]
    },
    {
      "cell_type": "code",
      "source": [
        "\n",
        "def pc(num):\n",
        "  num=num.split(\",\")\n",
        "  for i in range(len(num)):\n",
        "    num[i]=int(num[i])\n",
        "  lst=[]\n",
        "  for i in num:\n",
        "    if i%2==0 or i%3==0 or i%==5 or i%7==0:\n",
        "        continue\n",
        "    else:\n",
        "        lst.append(i)\n",
        "    return lst\n",
        "pc(input())"
      ],
      "metadata": {
        "colab": {
          "base_uri": "https://localhost:8080/",
          "height": 131
        },
        "id": "be7DdvmU3XAs",
        "outputId": "9468c8bf-8c3c-42a7-ca9d-2a9a95c27fcd"
      },
      "execution_count": null,
      "outputs": [
        {
          "output_type": "error",
          "ename": "SyntaxError",
          "evalue": "ignored",
          "traceback": [
            "\u001b[0;36m  File \u001b[0;32m\"<ipython-input-4-c1356d55ba09>\"\u001b[0;36m, line \u001b[0;32m7\u001b[0m\n\u001b[0;31m    if i%2==0 or i%3==0 or i%==5 or i%7==0:\u001b[0m\n\u001b[0m                            ^\u001b[0m\n\u001b[0;31mSyntaxError\u001b[0m\u001b[0;31m:\u001b[0m invalid syntax\n"
          ]
        }
      ]
    },
    {
      "cell_type": "code",
      "source": [
        "#2\n",
        "def BMI(hght,wght):\n",
        "  h=hght/100\n",
        "  bmi1=wght/(h**2)\n",
        "  if bmi1<18.5:\n",
        "    print(\"Score is\",str(bmi1)[:4:]+\".\",\"You are Underweight\")\n",
        "  elif 18.5<=bmi1<24.9:\n",
        "    print(\"Score is\",str(bmi1)[:4:]+\".\",\"You are Normal\")\n",
        "  elif 25<=bmi1<=30:\n",
        "    print(\"Score is\",str(bmi1)[:4:]+\".\",\"You are Overweight\")\n",
        "  else:\n",
        "    print(\"Score is\",str(bmi1)[:4:]+\".\",\"You are Obese\")\n",
        "BMI(int(input()),int(input()))"
      ],
      "metadata": {
        "colab": {
          "base_uri": "https://localhost:8080/"
        },
        "id": "4SMqjbbqcBOW",
        "outputId": "24378822-5461-42ba-a432-31fdf55ca6c3"
      },
      "execution_count": null,
      "outputs": [
        {
          "output_type": "stream",
          "name": "stdout",
          "text": [
            "152\n",
            "48\n",
            "Score is 20.7. You are normal\n"
          ]
        }
      ]
    },
    {
      "cell_type": "code",
      "source": [
        "#3\n",
        "def divisor(min,max,dv):\n",
        "  sum=0\n",
        "  for i in range (min,max):\n",
        "    if i%dv==0:\n",
        "      sum+=i\n",
        "  return sum\n",
        "divisor(int(input()),int(input()),int(input()))"
      ],
      "metadata": {
        "colab": {
          "base_uri": "https://localhost:8080/"
        },
        "id": "IcDlBHOug19J",
        "outputId": "b6f867f6-b0a5-4358-d43d-faec28fb33b7"
      },
      "execution_count": null,
      "outputs": [
        {
          "name": "stdout",
          "output_type": "stream",
          "text": [
            "3\n",
            "16\n",
            "3\n"
          ]
        },
        {
          "output_type": "execute_result",
          "data": {
            "text/plain": [
              "45"
            ]
          },
          "metadata": {},
          "execution_count": 11
        }
      ]
    },
    {
      "cell_type": "code",
      "source": [
        "#6\n",
        "def check_v(name):\n",
        "  vw=\"aeiou\"\n",
        "  str1=\"\"\n",
        "  count1=0\n",
        "  for i in name:\n",
        "    if i in vw:\n",
        "      count1+=1\n",
        "      if str1==\"\":\n",
        "        str1+=i\n",
        "      else:\n",
        "        str1+=\",\"+i\n",
        "  if count1==0:\n",
        "    print(\"No vowels in the name\")\n",
        "  else:\n",
        "    print(\"Vowels:\",str1+\".\",\"Total number of vowels:\",count1)\n",
        "check_v(input().lower())"
      ],
      "metadata": {
        "colab": {
          "base_uri": "https://localhost:8080/"
        },
        "id": "qjdF52RHiApo",
        "outputId": "561045f4-b551-4e75-c576-5d022d963ca1"
      },
      "execution_count": null,
      "outputs": [
        {
          "output_type": "stream",
          "name": "stdout",
          "text": [
            "RUBABA\n",
            "Vowels: u,a,a. Total number of vowels: 3\n"
          ]
        }
      ]
    },
    {
      "cell_type": "code",
      "source": [
        "#7\n",
        "str1=None\n",
        "\n",
        "def Palindrome(string1):\n",
        "  if \" \" in string1:\n",
        "    string1=string1.replace(\" \",\"\")\n",
        "  print(string1) \n",
        "  str1=string1[-1::-1]\n",
        "  if str1==string1:\n",
        "    print(\"Palindrome\")\n",
        "  else:\n",
        "    print(\"Not a palindrome\")\n",
        "Palindrome(input())"
      ],
      "metadata": {
        "colab": {
          "base_uri": "https://localhost:8080/"
        },
        "id": "-iJtKE86v2ki",
        "outputId": "79b50a78-b4c7-4633-c08f-5826108869bd"
      },
      "execution_count": null,
      "outputs": [
        {
          "output_type": "stream",
          "name": "stdout",
          "text": [
            "nurses run\n",
            "nursesrun\n",
            "Palindrome\n"
          ]
        }
      ]
    },
    {
      "cell_type": "code",
      "source": [
        "#8\n",
        "def time(days):\n",
        "  years = days // 365\n",
        "  days %= 365\n",
        "  month = days // 30\n",
        "  days %= 30\n",
        "  print(years,\"years\",month,\"months and\",days,\"days\")\n",
        "time(int(input()))"
      ],
      "metadata": {
        "colab": {
          "base_uri": "https://localhost:8080/"
        },
        "id": "Dk-b35W80pr0",
        "outputId": "377b23fe-caf0-4295-a7a8-abf0a0ce9c2a"
      },
      "execution_count": null,
      "outputs": [
        {
          "output_type": "stream",
          "name": "stdout",
          "text": [
            "4320\n",
            "11 years 10 months and 5 days\n"
          ]
        }
      ]
    },
    {
      "cell_type": "code",
      "execution_count": null,
      "metadata": {
        "colab": {
          "base_uri": "https://localhost:8080/"
        },
        "id": "U5ISxGOlUcZE",
        "outputId": "42f6928f-f0cf-428d-8fa6-b18d3930d3c2"
      },
      "outputs": [
        {
          "output_type": "stream",
          "name": "stdout",
          "text": [
            "enter burger name: Beef Burger\n",
            "Enter location: Dhanmondi\n",
            "243.6\n"
          ]
        }
      ],
      "source": [
        "#4\n",
        "def chillox(order,location=\"Mohakhali\"):\n",
        "  total=0\n",
        "  if order==\"BBQ Chicken Cheese Burger\":\n",
        "    total+=250\n",
        "  elif order==\"Beef Burger\":\n",
        "    total+=170\n",
        "  elif order==\"Naga Drums\":\n",
        "    total+=200\n",
        "  total=total+(total*0.08)\n",
        "  if location==\"Mohakhali\":\n",
        "    total+=40\n",
        "  else:\n",
        "    total+=60\n",
        "  print(total)\n",
        "chillox(input(\"enter burger name: \"),input(\"Enter location: \"))\n"
      ]
    },
    {
      "cell_type": "code",
      "source": [
        "#5\n",
        "def replace_domain(check,new,old=\"kaaj.com\"):\n",
        "  str1=\"\"\n",
        "  chk=check[:(check.index(\"@\"))+1:]\n",
        "  dom=check[(check.index(\"@\"))+1::]\n",
        "  if dom==new:\n",
        "    print(\"Unchanged:\",check)\n",
        "  else:\n",
        "   str1+=chk\n",
        "   str1+=new\n",
        "   print(\"Changed:\",str1)\n",
        "replace_domain(input(),input())"
      ],
      "metadata": {
        "colab": {
          "base_uri": "https://localhost:8080/"
        },
        "id": "Bsr00VmVZwVB",
        "outputId": "94518d50-208d-4598-d7fe-338979e77cf4"
      },
      "execution_count": null,
      "outputs": [
        {
          "output_type": "stream",
          "name": "stdout",
          "text": [
            "bob@sheba.xyz\n",
            "sheba.xyz\n",
            "Unchanged: bob@sheba.xyz\n"
          ]
        }
      ]
    },
    {
      "cell_type": "code",
      "source": [
        "#7\n",
        "def palindrome_checker(word):\n",
        "    right_ward = [x for x in word if x!=' ']\n",
        "    left_ward = [right_ward[x] for x in range(len(right_ward)-1, -1, -1)]\n",
        "    palindrome = right_ward == left_ward\n",
        "    return \"Palindrome\" if palindrome else \"Not a palindrome\"\n",
        "\n",
        "print(palindrome_checker('madam'))\n",
        "print(palindrome_checker('hello'))\n",
        "print(palindrome_checker('nurses run'))"
      ],
      "metadata": {
        "id": "NDPt--5Rd6TZ"
      },
      "execution_count": null,
      "outputs": []
    },
    {
      "cell_type": "code",
      "source": [
        "#9\n",
        "def my_function(string: str) -> str:\n",
        "    string  = string[2:-2].split(' ')\n",
        "    new_string = string[0].title()\n",
        "    for i in range(1, len(string)-1):\n",
        "        if '.' in string[i] or '!' in string[i] or '?' in string[i]: string[i+1] = string[i+1].title()\n",
        "        new_string += ' ' + string[i]\n",
        "        \n",
        "    return new_string.replace('i ', 'I ')\n",
        "\n",
        "print(my_function(\"('my favourite animal is a dog. a dog has sharp teeth so that it can eat flesh very easily. do you know my pet dog’s name? i love my pet very much.')\"))"
      ],
      "metadata": {
        "id": "EtEa7wlTfCvx",
        "outputId": "5cae3335-9184-4b81-dd17-1bf41de76006",
        "colab": {
          "base_uri": "https://localhost:8080/"
        }
      },
      "execution_count": null,
      "outputs": [
        {
          "output_type": "stream",
          "name": "stdout",
          "text": [
            "my favourite animal is a dog. a dog has sharp teeth so that it can eat flesh very easily. do you know my pet dog’s name? i love my pet very much.\n",
            "My favourite animal is a dog. A dog has sharp teeth so that it can eat flesh very easily. Do you know my pet dog’s name? I love my pet very\n"
          ]
        }
      ]
    },
    {
      "cell_type": "code",
      "source": [],
      "metadata": {
        "id": "6LCPBFMpC_5E"
      },
      "execution_count": null,
      "outputs": []
    },
    {
      "cell_type": "code",
      "source": [
        "#9\n",
        "def my_function(string):\n",
        "    string  = string[2:-2].split(' ')\n",
        "    new_string = string[0].title()\n",
        "    for i in range(1, len(string)-1):\n",
        "        if '.' in string[i] or '!' in string[i] or '?' in string[i]: \n",
        "         string[i+1] = string[i+1].title()\n",
        "        new_string += ' ' + string[i]\n",
        "        \n",
        "    return new_string.replace('i ', 'I ')\n",
        "\n",
        "print(my_function(\"('my favourite animal is a dog. a dog has sharp teeth so that it can eat flesh very easily. do you know my pet dog’s name? i love my pet very much.')\"))"
      ],
      "metadata": {
        "outputId": "72da053c-3285-48b6-94d5-1a08617e1af7",
        "colab": {
          "base_uri": "https://localhost:8080/"
        },
        "id": "kCIPDHm-DAXP"
      },
      "execution_count": null,
      "outputs": [
        {
          "output_type": "stream",
          "name": "stdout",
          "text": [
            "My favourite animal is a dog. A dog has sharp teeth so that it can eat flesh very easily. Do you know my pet dog’s name? I love my pet very\n"
          ]
        }
      ]
    }
  ]
}