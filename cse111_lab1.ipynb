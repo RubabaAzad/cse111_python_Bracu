{
  "nbformat": 4,
  "nbformat_minor": 0,
  "metadata": {
    "colab": {
      "provenance": []
    },
    "kernelspec": {
      "name": "python3",
      "display_name": "Python 3"
    },
    "language_info": {
      "name": "python"
    }
  },
  "cells": [
    {
      "cell_type": "code",
      "execution_count": null,
      "metadata": {
        "colab": {
          "base_uri": "https://localhost:8080/"
        },
        "id": "VIfGyyNhLY-H",
        "outputId": "54be0287-bf07-478a-fc48-aa6569fc14ce"
      },
      "outputs": [
        {
          "output_type": "stream",
          "name": "stdout",
          "text": [
            "Enter a string: BaNaNa\n",
            "banana\n"
          ]
        }
      ],
      "source": [
        "#string\n",
        "#1\n",
        "string1=input(\"Enter a string: \")\n",
        "up_case=0\n",
        "low_case=0\n",
        "for char in string1:\n",
        "  if 65<=ord(char)<=90:\n",
        "    up_case+=1\n",
        "  else:\n",
        "    low_case+=1\n",
        "if low_case<up_case:\n",
        "  print(string1.upper())\n",
        "else:\n",
        "  print(string1.lower())"
      ]
    },
    {
      "cell_type": "code",
      "source": [
        "#string_2\n",
        "string1=input(\"Enter a string: \")\n",
        "num_cnt=0\n",
        "wrd_cnt=0\n",
        "for char in string1:\n",
        "  if 48<=ord(char)<=57:\n",
        "    num_cnt=1\n",
        "  elif (65<=ord(char)<=90) or (97<=ord(char)<=122):\n",
        "    wrd_cnt=1\n",
        "if num_cnt==1 and wrd_cnt==0:\n",
        "  print(\"NUMBER\")\n",
        "elif num_cnt==0 and wrd_cnt==1:\n",
        "  print(\"WORD\")\n",
        "else:\n",
        "  print(\"MIXED\")"
      ],
      "metadata": {
        "colab": {
          "base_uri": "https://localhost:8080/"
        },
        "id": "IVhVqj5wNuob",
        "outputId": "d3fd3135-f02b-40f3-ff5c-363d80a7121d"
      },
      "execution_count": null,
      "outputs": [
        {
          "output_type": "stream",
          "name": "stdout",
          "text": [
            "Enter a string: 213213\n",
            "NUMBER\n"
          ]
        }
      ]
    },
    {
      "cell_type": "code",
      "source": [
        "#string_3\n",
        "str1=input(\"enter a string: \")\n",
        "str2=\"\"\n",
        "str3=\"\"\n",
        "for i in str1:\n",
        "  if 65<=ord(i)<=90:\n",
        "    str2+=str1[str1.index(i)+1::]\n",
        "    break\n",
        "for j in str2:\n",
        "  if 65<=ord(j)<=90:\n",
        "    str3+=str2[:str2.index(j):]\n",
        "if str3!=\"\":\n",
        "  print(str3)\n",
        "else:\n",
        "  print(\"BLANK\")"
      ],
      "metadata": {
        "colab": {
          "base_uri": "https://localhost:8080/"
        },
        "id": "8mbCQsS-PvZZ",
        "outputId": "2e0c9f87-bcd9-4c4b-ba3d-413a6d3ff6d7"
      },
      "execution_count": null,
      "outputs": [
        {
          "output_type": "stream",
          "name": "stdout",
          "text": [
            "enter a string: baNgladEsh\n",
            "glad\n"
          ]
        }
      ]
    },
    {
      "cell_type": "code",
      "source": [
        "#str\n",
        "string1 = input(\"Enter a string: \")\n",
        "if \"too good\" in string1:\n",
        "    print(string1.replace(\"too good\",\"excellent\"))\n",
        "else:\n",
        "    print(string1)"
      ],
      "metadata": {
        "colab": {
          "base_uri": "https://localhost:8080/"
        },
        "id": "xxNeXZdFUZY_",
        "outputId": "a66ea9ba-54b9-4645-9a33-34b863c245be"
      },
      "execution_count": null,
      "outputs": [
        {
          "output_type": "stream",
          "name": "stdout",
          "text": [
            "Enter a string: This book is good too!\n",
            "This book is good too!\n"
          ]
        }
      ]
    },
    {
      "cell_type": "code",
      "source": [
        "#str4\n",
        "strng1 = input(\"Enter a string: \")\n",
        "strng2 = input(\"Enter another string: \")\n",
        "new_strng = \"\"\n",
        "count = 0\n",
        "\n",
        "for i in strng1:\n",
        "    if i in strng2:\n",
        "        new_strng = new_strng + i\n",
        "        count = count + 1\n",
        "\n",
        "for i in strng2:\n",
        "    if i in strng1:\n",
        "        new_strng = new_strng + i\n",
        "        count = count + 1 \n",
        "\n",
        "if count == 0:\n",
        "    print(\"Nothing in common.\")\n",
        "else:\n",
        "    print(new_strng)        "
      ],
      "metadata": {
        "id": "qmA0ghqQXMKb"
      },
      "execution_count": null,
      "outputs": []
    },
    {
      "cell_type": "code",
      "source": [
        "#str5"
      ],
      "metadata": {
        "id": "Kf6YBIiYXgxC"
      },
      "execution_count": null,
      "outputs": []
    },
    {
      "cell_type": "code",
      "source": [
        "#str5\n",
        "inpt = input(\"Enter the password: \")\n",
        "upper_used = False\n",
        "lower_used = False\n",
        "digit_used = False\n",
        "speical_char_used = False\n",
        "speical_char = \"_$#@\"\n",
        "final_msg = \"\"\n",
        "\n",
        "for w in inpt:\n",
        "    if upper_used == False:\n",
        "        if w.isupper():\n",
        "            upper_used = True\n",
        "    if lower_used == False:\n",
        "        if w.islower():\n",
        "            lower_used = True\n",
        "    if digit_used == False:\n",
        "        if w.isdecimal():\n",
        "            digit_used = True\n",
        "    if speical_char_used == False:\n",
        "        if w in speical_char:\n",
        "            speical_char_used = True\n",
        "\n",
        "            \n",
        "if upper_used and lower_used and digit_used and speical_char_used:\n",
        "    final_msg += \"OK\"\n",
        "if upper_used == False:\n",
        "    final_msg += \"Uppercase charcther missing, \"\n",
        "if lower_used == False:\n",
        "    final_msg += \"Lowercase character missing, \"\n",
        "if digit_used == False:\n",
        "    final_msg += \"Digit missing, \"\n",
        "if speical_char_used == False:\n",
        "    final_msg += \"Speical character missing\"\n",
        "if final_msg[-2] is \",\":\n",
        "    final_msg == final_msg[:-2]\n",
        "print(final_msg)"
      ],
      "metadata": {
        "id": "JK03lfzHaFG3"
      },
      "execution_count": null,
      "outputs": []
    },
    {
      "cell_type": "code",
      "source": [
        "#List Problem:01\n",
        "\n",
        "lst1 = []\n",
        "lst2 = []\n",
        "inpt = 1\n",
        "\n",
        "while inpt == 1:\n",
        "    inpt_nmbr = input(\"Enter number: \")\n",
        "    if inpt_nmbr != \"STOP\":\n",
        "        lst1.append(inpt_nmbr)\n",
        "    else:\n",
        "        break\n",
        "\n",
        "lst1.sort()\n",
        "for i in range (len(lst1)):\n",
        "    if lst1[i] in lst2:\n",
        "        continue\n",
        "    else:\n",
        "        counter = lst1.count(lst1[i])\n",
        "        lst2.append(lst1[i])\n",
        "        print(str(lst1[i]) + \"-\" + str(counter) + \" times\")"
      ],
      "metadata": {
        "id": "GpgIprPOa7lt"
      },
      "execution_count": null,
      "outputs": []
    },
    {
      "cell_type": "code",
      "source": [
        "list1=[1,2,2,3,1,5,9]\n",
        "list2=[]\n",
        "count=0\n",
        "for i in list1:\n",
        "  if i not in list2:\n",
        "    list2.append(i)\n",
        "    count+=1\n",
        "  else:\n",
        "    count+=1\n",
        "    "
      ],
      "metadata": {
        "id": "T5TaXxzh-v0k"
      },
      "execution_count": null,
      "outputs": []
    },
    {
      "cell_type": "code",
      "source": [
        "#List Problem:02\n",
        "#List Problem:02\n",
        "\n",
        "lst = []\n",
        "total = []\n",
        "number = int(input (\"Enter number of list: \"))\n",
        "for k  in range(number):\n",
        "    inpt = input(\"Enter numbers: \").split()\n",
        "    for s in range(len(inpt)):\n",
        "        inpt[s] = int(inpt[s])\n",
        "    lst.append(inpt)\n",
        "    total.append(sum(lst[k]))\n",
        "print(max(total))\n",
        "print(lst[total.index(max(total))])"
      ],
      "metadata": {
        "id": "gY9_LrGtbwAk"
      },
      "execution_count": null,
      "outputs": []
    },
    {
      "cell_type": "code",
      "source": [],
      "metadata": {
        "id": "B9lfJzMsBFg6"
      },
      "execution_count": null,
      "outputs": []
    },
    {
      "cell_type": "code",
      "source": [
        "#List Problem:02\n",
        "#List Problem:02\n",
        "\n",
        "lst = []\n",
        "total = []\n",
        "sum=0\n",
        "number = int(input (\"Enter number of list: \"))\n",
        "for k  in range(number):\n",
        "    inpt = input(\"Enter numbers: \").split()\n",
        "    #print(inpt)\n",
        "    for s in range(len(inpt)):\n",
        "        inpt[s] = int(inpt[s])\n",
        "        sum+=inpt[s]\n",
        "    lst.append(inpt)\n",
        "    #print(lst)\n",
        "    total.append(sum)\n",
        "    sum=0\n",
        "#print(total)\n",
        "max=total[0]\n",
        "for i in total:\n",
        "  if i>=max:\n",
        "    max=i\n",
        "print(max)\n",
        "print(lst[total.index(max)])"
      ],
      "metadata": {
        "colab": {
          "base_uri": "https://localhost:8080/"
        },
        "id": "DkrcARLyBGCt",
        "outputId": "810655ec-ebf9-4c80-c1a7-e1e02ff9b1f0"
      },
      "execution_count": null,
      "outputs": [
        {
          "output_type": "stream",
          "name": "stdout",
          "text": [
            "Enter number of list: 4\n",
            "Enter numbers: 1 2 3\n",
            "Enter numbers: 4 5 6\n",
            "Enter numbers: 10 11 12\n",
            "Enter numbers: 7 8 9\n",
            "33\n",
            "[10, 11, 12]\n"
          ]
        }
      ]
    },
    {
      "cell_type": "code",
      "source": [
        "#List Problem:03\n",
        "\n",
        "inpt1 = input(\"Enter numbers: \").split()\n",
        "inpt2 = input(\"Enter numbers: \").split()\n",
        "lst = []\n",
        "for i in range(len(inpt1)):\n",
        "    new = int(inpt1[i])\n",
        "    for i in inpt2:\n",
        "        lst.append(new*int(i))\n",
        "print(lst)        "
      ],
      "metadata": {
        "id": "AHGET_jncr4X"
      },
      "execution_count": null,
      "outputs": []
    },
    {
      "cell_type": "code",
      "source": [
        "#List Problem:04\n",
        "\n",
        "inpt = None\n",
        "while inpt != \"STOP\":\n",
        "    inpt = input(\"Enter list of N number: \")\n",
        "    inpt_1 = inpt.split()\n",
        "    lst = []\n",
        "    if inpt != \"STOP\":\n",
        "        for i in range(len(inpt_1) - 1):\n",
        "            new = abx notvs(int(inpt_1[i+1]) - int(inpt_1[i]))\n",
        "            if new < len(inpt_1) and new not in lst:\n",
        "                lst.append(new)\n",
        "            else:\n",
        "                continue\n",
        "                \n",
        "        if len(lst) != (len(inpt_1) - 1):\n",
        "            print(\"Not UB Jumper\")\n",
        "            \n",
        "        else:\n",
        "            print(\"UB Jumper\")\n",
        "      \n",
        "    else:\n",
        "        continue"
      ],
      "metadata": {
        "id": "F3ITu7R_cwsf",
        "colab": {
          "base_uri": "https://localhost:8080/"
        },
        "outputId": "bac81641-1839-402c-ff1e-dc3e5d76f117"
      },
      "execution_count": null,
      "outputs": [
        {
          "name": "stdout",
          "output_type": "stream",
          "text": [
            "Enter list of N number: 1 2 3 4 \n",
            "Not UB Jumper\n",
            "Enter list of N number: STOP\n"
          ]
        }
      ]
    },
    {
      "cell_type": "code",
      "source": [
        "#List Problem:\n",
        "\n",
        "lwr = []\n",
        "upr = []\n",
        "even = []\n",
        "odd = []\n",
        "final = []\n",
        "inpt = input(\"Enter string: \")\n",
        "\n",
        "for k in range(len(inpt)):\n",
        "    if inpt[k].isupper():\n",
        "        upr.append(inpt[k])\n",
        "    elif inpt[k].islower():\n",
        "        lwr.append(inpt[k])\n",
        "    elif inpt[k].isnumeric():\n",
        "        if inpt[k] in [\"2\", \"4\", \"6\", \"8\"]:\n",
        "            even.append(inpt[k])\n",
        "        else:\n",
        "            odd.append(inpt[k])\n",
        "\n",
        "lwr.sort()\n",
        "upr.sort()\n",
        "odd.sort()\n",
        "even.sort()\n",
        "final = lwr + upr + odd + even\n",
        "for i in range(len(final)):\n",
        "    print(final[i], end = \"\")"
      ],
      "metadata": {
        "id": "9DBpDFRxc2qW"
      },
      "execution_count": null,
      "outputs": []
    },
    {
      "cell_type": "code",
      "source": [
        "#List Problem:05\n",
        "\n",
        "inpt_1 = input(\"Enter first input: \").split()\n",
        "inpt_2 = input(\"Enter second input: \").split()\n",
        "\n",
        "programmers = 0\n",
        "\n",
        "for i in inpt_2:\n",
        "    new = int(inpt_1[-1]) + int(i)\n",
        "    if new > 5:\n",
        "        continue\n",
        "    else:\n",
        "        programmers = programmers + 1\n",
        "\n",
        "print(programmers // 3)        "
      ],
      "metadata": {
        "id": "vzbhsEVTc7LP",
        "colab": {
          "base_uri": "https://localhost:8080/"
        },
        "outputId": "e145bad5-c94e-4ec1-a249-ce886256e7ea"
      },
      "execution_count": null,
      "outputs": [
        {
          "output_type": "stream",
          "name": "stdout",
          "text": [
            "Enter first input: 5 2\n",
            "Enter second input: 0 4 5 1 0\n",
            "1\n"
          ]
        }
      ]
    },
    {
      "cell_type": "code",
      "source": [
        "#Dictionary & Tuple Problem:01\n",
        "\n",
        "strr1 = input(\"Sample Input 1: \").split(\", \")\n",
        "strr2 = input(\"Sample Input 2: \").split(\", \")\n",
        "dc1 = {}\n",
        "dict_2 = {}\n",
        "for i in strr1:\n",
        "    k, v = i.split(\":\")\n",
        "    dc1[k.strip()] = int(v.strip())\n",
        "for i in strr2:\n",
        "    k, v = i.split(\":\")\n",
        "    dict_2[k.strip()] = int(v.strip())\n",
        "for k, v in dict_2.items():\n",
        "    if dc1.get(k) == None:\n",
        "        dc1[k] = v\n",
        "    else:\n",
        "        dc1[k] += v\n",
        "new = []\n",
        "for val in dc1.values():\n",
        "    if val not in new:\n",
        "        new.append(val)\n",
        "new.sort()\n",
        "new = tuple(new)\n",
        "print(dc1)\n",
        "print(\"Values:\", new)"
      ],
      "metadata": {
        "id": "-g1xwbNedCHT"
      },
      "execution_count": null,
      "outputs": []
    },
    {
      "cell_type": "code",
      "source": [
        "#Dictionary & Tuple Problem:02\n",
        "\n",
        "dict_1 = {}\n",
        "inpt = None\n",
        "\n",
        "while inpt != \"STOP\":\n",
        "    inpt = input(\"Enter Number: \")\n",
        "    if inpt.isdigit() == True:\n",
        "        if dict_1.get(inpt) != None:\n",
        "            dict_1[inpt] = dict_1[inpt] + 1\n",
        "        else:\n",
        "            dict_1[inpt] = 1\n",
        "    else:\n",
        "        continue\n",
        "        \n",
        "for key,value in dict_1.items():\n",
        "    print(\"{0} - {1} times\". format (int(key),value))"
      ],
      "metadata": {
        "id": "rmrvYv7mdJQd"
      },
      "execution_count": null,
      "outputs": []
    },
    {
      "cell_type": "code",
      "source": [
        "#Dictionary & Tuple Problem:03\n",
        "\n",
        "inpt = input(\"Enter a dictionary: \").split(\",\")\n",
        "\n",
        "dict_1 = {}\n",
        "for i in inpt:\n",
        "    inpt_2 = i.split(\":\")\n",
        "    if dict_1.get(inpt_2[-1]) != None:\n",
        "        dict_1[inpt_2[-1]].append(inpt_2[0])\n",
        "    else:\n",
        "        dict_1[inpt_2[-1]] = [inpt_2[0]]\n",
        "        \n",
        "print(dict_1)        "
      ],
      "metadata": {
        "id": "CeQu6cSNdOD-"
      },
      "execution_count": null,
      "outputs": []
    },
    {
      "cell_type": "code",
      "source": [
        "#Dictionary & Tuple Problem:\n",
        "\n",
        "inpt = input(\"Enter first string: \")\n",
        "inpt_2 = \"\"\n",
        "inpt_dict = {}\n",
        "\n",
        "for i in range(1):\n",
        "    inpt_3 = input(\"Enter second string: \")\n",
        "    inpt_2 = inpt_3\n",
        "    \n",
        "    for i in inpt_2:\n",
        "        if inpt_dict.get(i) != None:\n",
        "            inpt_dict[i] = inpt_dict[i] + 1\n",
        "        else:\n",
        "            inpt_dict[i] = 1\n",
        "            \n",
        "chck = True\n",
        "count = 0\n",
        "for i in inpt:\n",
        "    if inpt_dict.get(i) != 1:\n",
        "        chck = False\n",
        "        break\n",
        "    elif len(inpt) != len(inpt_2):\n",
        "        chck = False\n",
        "        break\n",
        "    else:\n",
        "        count = count + 1\n",
        "        \n",
        "if chck != False:\n",
        "    print(\"Those strings are anagrams.\")\n",
        "else:\n",
        "    print(\"Those strings are not anagrams\")    "
      ],
      "metadata": {
        "id": "oVZAHWxKdRmY"
      },
      "execution_count": null,
      "outputs": []
    },
    {
      "cell_type": "code",
      "source": [
        "#dict5\n",
        "gvn = {\".\":\"1\",\",\":\"11\",\"?\":\"111\",\"!\":\"1111\",\":\":\"11111\",\"A\":\"2\",\n",
        "      \"B\":\"22\",\"C\":\"222\",\"D\":\"3\",\"E\":\"33\",\"F\":\"333\",\"G\":\"4\",\"H\":\"44\",\n",
        "      \"I\":\"444\",\"J\":\"5\",\"K\":\"55\",\"L\":\"555\",\"M\":\"6\",\"N\":\"66\",\"O\":\"666\",\n",
        "      \"P\":\"7\",\"Q\":\"77\",\"R\":\"777\",\"S\":\"7777\",\"T\":\"8\",\"U\":\"88\",\"V\":\"888\",\n",
        "      \"W\":\"9\",\"X\":\"99\",\"Y\":\"999\",\"Z\":\"9999\",\" \":\"0\"}\n",
        "\n",
        "inpt = input(\"Please enter a string: \").upper()\n",
        "for k in inpt:\n",
        "    print(gvn[k], end = \"\")"
      ],
      "metadata": {
        "id": "NzyMz0KadYzT"
      },
      "execution_count": null,
      "outputs": []
    }
  ]
}